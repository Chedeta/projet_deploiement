{
 "cells": [
  {
   "cell_type": "code",
   "execution_count": 1,
   "metadata": {},
   "outputs": [
    {
     "name": "stdout",
     "output_type": "stream",
     "text": [
      "Collecting openpyxl\n",
      "  Using cached openpyxl-3.0.10-py2.py3-none-any.whl (242 kB)\n",
      "Collecting et-xmlfile\n",
      "  Using cached et_xmlfile-1.1.0-py3-none-any.whl (4.7 kB)\n",
      "Installing collected packages: et-xmlfile, openpyxl\n",
      "Successfully installed et-xmlfile-1.1.0 openpyxl-3.0.10\n",
      "Note: you may need to restart the kernel to use updated packages.\n"
     ]
    }
   ],
   "source": [
    "pip install openpyxl"
   ]
  },
  {
   "cell_type": "code",
   "execution_count": 2,
   "metadata": {},
   "outputs": [],
   "source": [
    "import pandas as pd\n",
    "import numpy as np\n",
    "import seaborn as sns\n",
    "import matplotlib.pyplot as plt\n",
    "import plotly.express as px\n",
    "import plotly.graph_objects as go\n",
    "import plotly.io as pio"
   ]
  },
  {
   "cell_type": "code",
   "execution_count": 3,
   "metadata": {},
   "outputs": [],
   "source": [
    "import matplotlib\n",
    "import matplotlib.pyplot as plt"
   ]
  },
  {
   "cell_type": "code",
   "execution_count": 11,
   "metadata": {},
   "outputs": [],
   "source": [
    "from sklearn.model_selection import train_test_split\n",
    "from sklearn.pipeline import Pipeline\n",
    "from sklearn.impute import SimpleImputer\n",
    "from sklearn.preprocessing import  OneHotEncoder, StandardScaler\n",
    "from sklearn.compose import ColumnTransformer\n",
    "from sklearn.linear_model import LinearRegression\n",
    "from sklearn.metrics import r2_score"
   ]
  },
  {
   "cell_type": "code",
   "execution_count": 100,
   "metadata": {},
   "outputs": [],
   "source": [
    "# load the training dataset\n",
    "# if necessary download the file\n",
    "# !wget https://raw.githubusercontent.com/MicrosoftDocs/mslearn-introduction-to-machine-learning/main/Data/ml-basics/diabetes.csv\n",
    "dataset_delay = pd.read_excel('get_around_delay_analysis.xlsx')\n",
    "dataset_pricing = pd.read_csv('get_around_pricing_project.csv')"
   ]
  },
  {
   "cell_type": "code",
   "execution_count": 9,
   "metadata": {},
   "outputs": [
    {
     "data": {
      "text/html": [
       "<div>\n",
       "<style scoped>\n",
       "    .dataframe tbody tr th:only-of-type {\n",
       "        vertical-align: middle;\n",
       "    }\n",
       "\n",
       "    .dataframe tbody tr th {\n",
       "        vertical-align: top;\n",
       "    }\n",
       "\n",
       "    .dataframe thead th {\n",
       "        text-align: right;\n",
       "    }\n",
       "</style>\n",
       "<table border=\"1\" class=\"dataframe\">\n",
       "  <thead>\n",
       "    <tr style=\"text-align: right;\">\n",
       "      <th></th>\n",
       "      <th>rental_id</th>\n",
       "      <th>car_id</th>\n",
       "      <th>checkin_type</th>\n",
       "      <th>state</th>\n",
       "      <th>delay_at_checkout_in_minutes</th>\n",
       "      <th>previous_ended_rental_id</th>\n",
       "      <th>time_delta_with_previous_rental_in_minutes</th>\n",
       "    </tr>\n",
       "  </thead>\n",
       "  <tbody>\n",
       "    <tr>\n",
       "      <th>0</th>\n",
       "      <td>505000.0</td>\n",
       "      <td>363965.0</td>\n",
       "      <td>mobile</td>\n",
       "      <td>canceled</td>\n",
       "      <td>NaN</td>\n",
       "      <td>NaN</td>\n",
       "      <td>NaN</td>\n",
       "    </tr>\n",
       "    <tr>\n",
       "      <th>1</th>\n",
       "      <td>507750.0</td>\n",
       "      <td>269550.0</td>\n",
       "      <td>mobile</td>\n",
       "      <td>ended</td>\n",
       "      <td>-81.0</td>\n",
       "      <td>NaN</td>\n",
       "      <td>NaN</td>\n",
       "    </tr>\n",
       "    <tr>\n",
       "      <th>2</th>\n",
       "      <td>508131.0</td>\n",
       "      <td>359049.0</td>\n",
       "      <td>connect</td>\n",
       "      <td>ended</td>\n",
       "      <td>70.0</td>\n",
       "      <td>NaN</td>\n",
       "      <td>NaN</td>\n",
       "    </tr>\n",
       "    <tr>\n",
       "      <th>3</th>\n",
       "      <td>508865.0</td>\n",
       "      <td>299063.0</td>\n",
       "      <td>connect</td>\n",
       "      <td>canceled</td>\n",
       "      <td>NaN</td>\n",
       "      <td>NaN</td>\n",
       "      <td>NaN</td>\n",
       "    </tr>\n",
       "    <tr>\n",
       "      <th>4</th>\n",
       "      <td>511440.0</td>\n",
       "      <td>313932.0</td>\n",
       "      <td>mobile</td>\n",
       "      <td>ended</td>\n",
       "      <td>NaN</td>\n",
       "      <td>NaN</td>\n",
       "      <td>NaN</td>\n",
       "    </tr>\n",
       "    <tr>\n",
       "      <th>5</th>\n",
       "      <td>511626.0</td>\n",
       "      <td>398802.0</td>\n",
       "      <td>mobile</td>\n",
       "      <td>ended</td>\n",
       "      <td>-203.0</td>\n",
       "      <td>NaN</td>\n",
       "      <td>NaN</td>\n",
       "    </tr>\n",
       "    <tr>\n",
       "      <th>6</th>\n",
       "      <td>511639.0</td>\n",
       "      <td>370585.0</td>\n",
       "      <td>connect</td>\n",
       "      <td>ended</td>\n",
       "      <td>-15.0</td>\n",
       "      <td>563782.0</td>\n",
       "      <td>570.0</td>\n",
       "    </tr>\n",
       "    <tr>\n",
       "      <th>7</th>\n",
       "      <td>512303.0</td>\n",
       "      <td>371242.0</td>\n",
       "      <td>mobile</td>\n",
       "      <td>ended</td>\n",
       "      <td>-44.0</td>\n",
       "      <td>NaN</td>\n",
       "      <td>NaN</td>\n",
       "    </tr>\n",
       "    <tr>\n",
       "      <th>8</th>\n",
       "      <td>512475.0</td>\n",
       "      <td>322502.0</td>\n",
       "      <td>mobile</td>\n",
       "      <td>canceled</td>\n",
       "      <td>NaN</td>\n",
       "      <td>NaN</td>\n",
       "      <td>NaN</td>\n",
       "    </tr>\n",
       "    <tr>\n",
       "      <th>9</th>\n",
       "      <td>513434.0</td>\n",
       "      <td>256528.0</td>\n",
       "      <td>connect</td>\n",
       "      <td>ended</td>\n",
       "      <td>23.0</td>\n",
       "      <td>NaN</td>\n",
       "      <td>NaN</td>\n",
       "    </tr>\n",
       "    <tr>\n",
       "      <th>10</th>\n",
       "      <td>513743.0</td>\n",
       "      <td>330658.0</td>\n",
       "      <td>mobile</td>\n",
       "      <td>canceled</td>\n",
       "      <td>NaN</td>\n",
       "      <td>NaN</td>\n",
       "      <td>NaN</td>\n",
       "    </tr>\n",
       "    <tr>\n",
       "      <th>11</th>\n",
       "      <td>514161.0</td>\n",
       "      <td>366037.0</td>\n",
       "      <td>connect</td>\n",
       "      <td>canceled</td>\n",
       "      <td>NaN</td>\n",
       "      <td>NaN</td>\n",
       "      <td>NaN</td>\n",
       "    </tr>\n",
       "    <tr>\n",
       "      <th>12</th>\n",
       "      <td>514257.0</td>\n",
       "      <td>402596.0</td>\n",
       "      <td>mobile</td>\n",
       "      <td>ended</td>\n",
       "      <td>214.0</td>\n",
       "      <td>NaN</td>\n",
       "      <td>NaN</td>\n",
       "    </tr>\n",
       "    <tr>\n",
       "      <th>13</th>\n",
       "      <td>515147.0</td>\n",
       "      <td>257466.0</td>\n",
       "      <td>mobile</td>\n",
       "      <td>ended</td>\n",
       "      <td>15.0</td>\n",
       "      <td>NaN</td>\n",
       "      <td>NaN</td>\n",
       "    </tr>\n",
       "    <tr>\n",
       "      <th>14</th>\n",
       "      <td>516586.0</td>\n",
       "      <td>347394.0</td>\n",
       "      <td>mobile</td>\n",
       "      <td>canceled</td>\n",
       "      <td>NaN</td>\n",
       "      <td>NaN</td>\n",
       "      <td>NaN</td>\n",
       "    </tr>\n",
       "    <tr>\n",
       "      <th>15</th>\n",
       "      <td>518282.0</td>\n",
       "      <td>364160.0</td>\n",
       "      <td>connect</td>\n",
       "      <td>ended</td>\n",
       "      <td>-81.0</td>\n",
       "      <td>NaN</td>\n",
       "      <td>NaN</td>\n",
       "    </tr>\n",
       "    <tr>\n",
       "      <th>16</th>\n",
       "      <td>518366.0</td>\n",
       "      <td>397217.0</td>\n",
       "      <td>mobile</td>\n",
       "      <td>ended</td>\n",
       "      <td>-156.0</td>\n",
       "      <td>NaN</td>\n",
       "      <td>NaN</td>\n",
       "    </tr>\n",
       "    <tr>\n",
       "      <th>17</th>\n",
       "      <td>518895.0</td>\n",
       "      <td>398816.0</td>\n",
       "      <td>mobile</td>\n",
       "      <td>ended</td>\n",
       "      <td>66.0</td>\n",
       "      <td>NaN</td>\n",
       "      <td>NaN</td>\n",
       "    </tr>\n",
       "    <tr>\n",
       "      <th>18</th>\n",
       "      <td>518938.0</td>\n",
       "      <td>382243.0</td>\n",
       "      <td>mobile</td>\n",
       "      <td>ended</td>\n",
       "      <td>215.0</td>\n",
       "      <td>NaN</td>\n",
       "      <td>NaN</td>\n",
       "    </tr>\n",
       "    <tr>\n",
       "      <th>19</th>\n",
       "      <td>519491.0</td>\n",
       "      <td>312389.0</td>\n",
       "      <td>mobile</td>\n",
       "      <td>ended</td>\n",
       "      <td>58.0</td>\n",
       "      <td>545639.0</td>\n",
       "      <td>420.0</td>\n",
       "    </tr>\n",
       "  </tbody>\n",
       "</table>\n",
       "</div>"
      ],
      "text/plain": [
       "    rental_id    car_id checkin_type     state  delay_at_checkout_in_minutes  \\\n",
       "0    505000.0  363965.0       mobile  canceled                           NaN   \n",
       "1    507750.0  269550.0       mobile     ended                         -81.0   \n",
       "2    508131.0  359049.0      connect     ended                          70.0   \n",
       "3    508865.0  299063.0      connect  canceled                           NaN   \n",
       "4    511440.0  313932.0       mobile     ended                           NaN   \n",
       "5    511626.0  398802.0       mobile     ended                        -203.0   \n",
       "6    511639.0  370585.0      connect     ended                         -15.0   \n",
       "7    512303.0  371242.0       mobile     ended                         -44.0   \n",
       "8    512475.0  322502.0       mobile  canceled                           NaN   \n",
       "9    513434.0  256528.0      connect     ended                          23.0   \n",
       "10   513743.0  330658.0       mobile  canceled                           NaN   \n",
       "11   514161.0  366037.0      connect  canceled                           NaN   \n",
       "12   514257.0  402596.0       mobile     ended                         214.0   \n",
       "13   515147.0  257466.0       mobile     ended                          15.0   \n",
       "14   516586.0  347394.0       mobile  canceled                           NaN   \n",
       "15   518282.0  364160.0      connect     ended                         -81.0   \n",
       "16   518366.0  397217.0       mobile     ended                        -156.0   \n",
       "17   518895.0  398816.0       mobile     ended                          66.0   \n",
       "18   518938.0  382243.0       mobile     ended                         215.0   \n",
       "19   519491.0  312389.0       mobile     ended                          58.0   \n",
       "\n",
       "    previous_ended_rental_id  time_delta_with_previous_rental_in_minutes  \n",
       "0                        NaN                                         NaN  \n",
       "1                        NaN                                         NaN  \n",
       "2                        NaN                                         NaN  \n",
       "3                        NaN                                         NaN  \n",
       "4                        NaN                                         NaN  \n",
       "5                        NaN                                         NaN  \n",
       "6                   563782.0                                       570.0  \n",
       "7                        NaN                                         NaN  \n",
       "8                        NaN                                         NaN  \n",
       "9                        NaN                                         NaN  \n",
       "10                       NaN                                         NaN  \n",
       "11                       NaN                                         NaN  \n",
       "12                       NaN                                         NaN  \n",
       "13                       NaN                                         NaN  \n",
       "14                       NaN                                         NaN  \n",
       "15                       NaN                                         NaN  \n",
       "16                       NaN                                         NaN  \n",
       "17                       NaN                                         NaN  \n",
       "18                       NaN                                         NaN  \n",
       "19                  545639.0                                       420.0  "
      ]
     },
     "execution_count": 9,
     "metadata": {},
     "output_type": "execute_result"
    }
   ],
   "source": [
    "dataset_delay.head(20)"
   ]
  },
  {
   "cell_type": "code",
   "execution_count": 10,
   "metadata": {},
   "outputs": [
    {
     "data": {
      "text/html": [
       "<div>\n",
       "<style scoped>\n",
       "    .dataframe tbody tr th:only-of-type {\n",
       "        vertical-align: middle;\n",
       "    }\n",
       "\n",
       "    .dataframe tbody tr th {\n",
       "        vertical-align: top;\n",
       "    }\n",
       "\n",
       "    .dataframe thead th {\n",
       "        text-align: right;\n",
       "    }\n",
       "</style>\n",
       "<table border=\"1\" class=\"dataframe\">\n",
       "  <thead>\n",
       "    <tr style=\"text-align: right;\">\n",
       "      <th></th>\n",
       "      <th>rental_id</th>\n",
       "      <th>car_id</th>\n",
       "      <th>checkin_type</th>\n",
       "      <th>state</th>\n",
       "      <th>delay_at_checkout_in_minutes</th>\n",
       "      <th>previous_ended_rental_id</th>\n",
       "      <th>time_delta_with_previous_rental_in_minutes</th>\n",
       "    </tr>\n",
       "  </thead>\n",
       "  <tbody>\n",
       "    <tr>\n",
       "      <th>count</th>\n",
       "      <td>21310.000000</td>\n",
       "      <td>21310.000000</td>\n",
       "      <td>21310</td>\n",
       "      <td>21310</td>\n",
       "      <td>16346.000000</td>\n",
       "      <td>1841.000000</td>\n",
       "      <td>1841.000000</td>\n",
       "    </tr>\n",
       "    <tr>\n",
       "      <th>unique</th>\n",
       "      <td>NaN</td>\n",
       "      <td>NaN</td>\n",
       "      <td>2</td>\n",
       "      <td>2</td>\n",
       "      <td>NaN</td>\n",
       "      <td>NaN</td>\n",
       "      <td>NaN</td>\n",
       "    </tr>\n",
       "    <tr>\n",
       "      <th>top</th>\n",
       "      <td>NaN</td>\n",
       "      <td>NaN</td>\n",
       "      <td>mobile</td>\n",
       "      <td>ended</td>\n",
       "      <td>NaN</td>\n",
       "      <td>NaN</td>\n",
       "      <td>NaN</td>\n",
       "    </tr>\n",
       "    <tr>\n",
       "      <th>freq</th>\n",
       "      <td>NaN</td>\n",
       "      <td>NaN</td>\n",
       "      <td>17003</td>\n",
       "      <td>18045</td>\n",
       "      <td>NaN</td>\n",
       "      <td>NaN</td>\n",
       "      <td>NaN</td>\n",
       "    </tr>\n",
       "    <tr>\n",
       "      <th>mean</th>\n",
       "      <td>549712.880338</td>\n",
       "      <td>350030.603426</td>\n",
       "      <td>NaN</td>\n",
       "      <td>NaN</td>\n",
       "      <td>59.701517</td>\n",
       "      <td>550127.411733</td>\n",
       "      <td>279.288430</td>\n",
       "    </tr>\n",
       "    <tr>\n",
       "      <th>std</th>\n",
       "      <td>13863.446964</td>\n",
       "      <td>58206.249765</td>\n",
       "      <td>NaN</td>\n",
       "      <td>NaN</td>\n",
       "      <td>1002.561635</td>\n",
       "      <td>13184.023111</td>\n",
       "      <td>254.594486</td>\n",
       "    </tr>\n",
       "    <tr>\n",
       "      <th>min</th>\n",
       "      <td>504806.000000</td>\n",
       "      <td>159250.000000</td>\n",
       "      <td>NaN</td>\n",
       "      <td>NaN</td>\n",
       "      <td>-22433.000000</td>\n",
       "      <td>505628.000000</td>\n",
       "      <td>0.000000</td>\n",
       "    </tr>\n",
       "    <tr>\n",
       "      <th>25%</th>\n",
       "      <td>540613.250000</td>\n",
       "      <td>317639.000000</td>\n",
       "      <td>NaN</td>\n",
       "      <td>NaN</td>\n",
       "      <td>-36.000000</td>\n",
       "      <td>540896.000000</td>\n",
       "      <td>60.000000</td>\n",
       "    </tr>\n",
       "    <tr>\n",
       "      <th>50%</th>\n",
       "      <td>550350.000000</td>\n",
       "      <td>368717.000000</td>\n",
       "      <td>NaN</td>\n",
       "      <td>NaN</td>\n",
       "      <td>9.000000</td>\n",
       "      <td>550567.000000</td>\n",
       "      <td>180.000000</td>\n",
       "    </tr>\n",
       "    <tr>\n",
       "      <th>75%</th>\n",
       "      <td>560468.500000</td>\n",
       "      <td>394928.000000</td>\n",
       "      <td>NaN</td>\n",
       "      <td>NaN</td>\n",
       "      <td>67.000000</td>\n",
       "      <td>560823.000000</td>\n",
       "      <td>540.000000</td>\n",
       "    </tr>\n",
       "    <tr>\n",
       "      <th>max</th>\n",
       "      <td>576401.000000</td>\n",
       "      <td>417675.000000</td>\n",
       "      <td>NaN</td>\n",
       "      <td>NaN</td>\n",
       "      <td>71084.000000</td>\n",
       "      <td>575053.000000</td>\n",
       "      <td>720.000000</td>\n",
       "    </tr>\n",
       "  </tbody>\n",
       "</table>\n",
       "</div>"
      ],
      "text/plain": [
       "            rental_id         car_id checkin_type  state  \\\n",
       "count    21310.000000   21310.000000        21310  21310   \n",
       "unique            NaN            NaN            2      2   \n",
       "top               NaN            NaN       mobile  ended   \n",
       "freq              NaN            NaN        17003  18045   \n",
       "mean    549712.880338  350030.603426          NaN    NaN   \n",
       "std      13863.446964   58206.249765          NaN    NaN   \n",
       "min     504806.000000  159250.000000          NaN    NaN   \n",
       "25%     540613.250000  317639.000000          NaN    NaN   \n",
       "50%     550350.000000  368717.000000          NaN    NaN   \n",
       "75%     560468.500000  394928.000000          NaN    NaN   \n",
       "max     576401.000000  417675.000000          NaN    NaN   \n",
       "\n",
       "        delay_at_checkout_in_minutes  previous_ended_rental_id  \\\n",
       "count                   16346.000000               1841.000000   \n",
       "unique                           NaN                       NaN   \n",
       "top                              NaN                       NaN   \n",
       "freq                             NaN                       NaN   \n",
       "mean                       59.701517             550127.411733   \n",
       "std                      1002.561635              13184.023111   \n",
       "min                    -22433.000000             505628.000000   \n",
       "25%                       -36.000000             540896.000000   \n",
       "50%                         9.000000             550567.000000   \n",
       "75%                        67.000000             560823.000000   \n",
       "max                     71084.000000             575053.000000   \n",
       "\n",
       "        time_delta_with_previous_rental_in_minutes  \n",
       "count                                  1841.000000  \n",
       "unique                                         NaN  \n",
       "top                                            NaN  \n",
       "freq                                           NaN  \n",
       "mean                                    279.288430  \n",
       "std                                     254.594486  \n",
       "min                                       0.000000  \n",
       "25%                                      60.000000  \n",
       "50%                                     180.000000  \n",
       "75%                                     540.000000  \n",
       "max                                     720.000000  "
      ]
     },
     "execution_count": 10,
     "metadata": {},
     "output_type": "execute_result"
    }
   ],
   "source": [
    "dataset_delay.describe(include='all')"
   ]
  },
  {
   "cell_type": "code",
   "execution_count": 17,
   "metadata": {},
   "outputs": [
    {
     "data": {
      "text/plain": [
       "ended       18045\n",
       "canceled     3265\n",
       "Name: state, dtype: int64"
      ]
     },
     "execution_count": 17,
     "metadata": {},
     "output_type": "execute_result"
    }
   ],
   "source": [
    "dataset_delay.state.value_counts()"
   ]
  },
  {
   "cell_type": "code",
   "execution_count": 115,
   "metadata": {},
   "outputs": [],
   "source": [
    "rentals_canceled = dataset_delay[dataset_delay['state'] == \"canceled\"].reset_index()\n",
    "rentals_ended = dataset_delay[dataset_delay['state'] == \"ended\"].reset_index()\n"
   ]
  },
  {
   "cell_type": "code",
   "execution_count": 116,
   "metadata": {},
   "outputs": [
    {
     "data": {
      "text/plain": [
       "False"
      ]
     },
     "execution_count": 116,
     "metadata": {},
     "output_type": "execute_result"
    }
   ],
   "source": [
    "rentals_canceled['rental_id'][0] in rentals_ended['previous_ended_rental_id'].tolist()"
   ]
  },
  {
   "cell_type": "code",
   "execution_count": 117,
   "metadata": {},
   "outputs": [
    {
     "data": {
      "text/plain": [
       "0             NaN\n",
       "1             NaN\n",
       "2             NaN\n",
       "3        563782.0\n",
       "4             NaN\n",
       "           ...   \n",
       "16340         NaN\n",
       "16341         NaN\n",
       "16342         NaN\n",
       "16343         NaN\n",
       "16344         NaN\n",
       "Name: previous_ended_rental_id, Length: 16345, dtype: float64"
      ]
     },
     "execution_count": 117,
     "metadata": {},
     "output_type": "execute_result"
    }
   ],
   "source": [
    "rentals_ended['previous_ended_rental_id']"
   ]
  },
  {
   "cell_type": "code",
   "execution_count": 123,
   "metadata": {},
   "outputs": [
    {
     "data": {
      "text/plain": [
       "16345"
      ]
     },
     "execution_count": 123,
     "metadata": {},
     "output_type": "execute_result"
    }
   ],
   "source": [
    "len(rentals_ended['rental_id'].unique())"
   ]
  },
  {
   "cell_type": "code",
   "execution_count": 90,
   "metadata": {},
   "outputs": [],
   "source": [
    "rentals_canceled['IdinEnded'] = [1 if (x in rentals_ended['rental_id'].values) else 0 for x in rentals_canceled['previous_ended_rental_id']]"
   ]
  },
  {
   "cell_type": "code",
   "execution_count": 91,
   "metadata": {},
   "outputs": [
    {
     "data": {
      "text/plain": [
       "0    3036\n",
       "1     229\n",
       "Name: IdinEnded, dtype: int64"
      ]
     },
     "execution_count": 91,
     "metadata": {},
     "output_type": "execute_result"
    }
   ],
   "source": [
    "rentals_canceled['IdinEnded'].value_counts()"
   ]
  },
  {
   "cell_type": "code",
   "execution_count": 92,
   "metadata": {},
   "outputs": [],
   "source": [
    "rentals_ended['nextCanceled'] = [1 if (x in rentals_canceled['previous_ended_rental_id'].values) else 0 for x in rentals_ended['rental_id']]"
   ]
  },
  {
   "cell_type": "code",
   "execution_count": 93,
   "metadata": {},
   "outputs": [
    {
     "data": {
      "text/plain": [
       "0    17830\n",
       "1      215\n",
       "Name: nextCanceled, dtype: int64"
      ]
     },
     "execution_count": 93,
     "metadata": {},
     "output_type": "execute_result"
    }
   ],
   "source": [
    "rentals_ended['nextCanceled'].value_counts()"
   ]
  },
  {
   "cell_type": "code",
   "execution_count": 11,
   "metadata": {},
   "outputs": [
    {
     "data": {
      "text/plain": [
       "(21310, 7)"
      ]
     },
     "execution_count": 11,
     "metadata": {},
     "output_type": "execute_result"
    }
   ],
   "source": [
    "dataset_delay.drop_duplicates().shape"
   ]
  },
  {
   "cell_type": "code",
   "execution_count": 97,
   "metadata": {},
   "outputs": [
    {
     "data": {
      "text/html": [
       "<div>\n",
       "<style scoped>\n",
       "    .dataframe tbody tr th:only-of-type {\n",
       "        vertical-align: middle;\n",
       "    }\n",
       "\n",
       "    .dataframe tbody tr th {\n",
       "        vertical-align: top;\n",
       "    }\n",
       "\n",
       "    .dataframe thead th {\n",
       "        text-align: right;\n",
       "    }\n",
       "</style>\n",
       "<table border=\"1\" class=\"dataframe\">\n",
       "  <thead>\n",
       "    <tr style=\"text-align: right;\">\n",
       "      <th></th>\n",
       "      <th>index</th>\n",
       "      <th>rental_id</th>\n",
       "      <th>car_id</th>\n",
       "      <th>delay_at_checkout_in_minutes</th>\n",
       "      <th>previous_ended_rental_id</th>\n",
       "      <th>time_delta_with_previous_rental_in_minutes</th>\n",
       "    </tr>\n",
       "    <tr>\n",
       "      <th>nextCanceled</th>\n",
       "      <th></th>\n",
       "      <th></th>\n",
       "      <th></th>\n",
       "      <th></th>\n",
       "      <th></th>\n",
       "      <th></th>\n",
       "    </tr>\n",
       "  </thead>\n",
       "  <tbody>\n",
       "    <tr>\n",
       "      <th>0</th>\n",
       "      <td>10674.918508</td>\n",
       "      <td>549893.484633</td>\n",
       "      <td>349909.646887</td>\n",
       "      <td>61.88794</td>\n",
       "      <td>550004.085660</td>\n",
       "      <td>275.539340</td>\n",
       "    </tr>\n",
       "    <tr>\n",
       "      <th>1</th>\n",
       "      <td>10789.846512</td>\n",
       "      <td>551063.306977</td>\n",
       "      <td>351637.758140</td>\n",
       "      <td>-32.46114</td>\n",
       "      <td>550527.055556</td>\n",
       "      <td>344.166667</td>\n",
       "    </tr>\n",
       "  </tbody>\n",
       "</table>\n",
       "</div>"
      ],
      "text/plain": [
       "                     index      rental_id         car_id  \\\n",
       "nextCanceled                                               \n",
       "0             10674.918508  549893.484633  349909.646887   \n",
       "1             10789.846512  551063.306977  351637.758140   \n",
       "\n",
       "              delay_at_checkout_in_minutes  previous_ended_rental_id  \\\n",
       "nextCanceled                                                           \n",
       "0                                 61.88794             550004.085660   \n",
       "1                                -32.46114             550527.055556   \n",
       "\n",
       "              time_delta_with_previous_rental_in_minutes  \n",
       "nextCanceled                                              \n",
       "0                                             275.539340  \n",
       "1                                             344.166667  "
      ]
     },
     "execution_count": 97,
     "metadata": {},
     "output_type": "execute_result"
    }
   ],
   "source": [
    "rentals_ended.groupby('nextCanceled').aggregate('mean')"
   ]
  },
  {
   "cell_type": "code",
   "execution_count": 95,
   "metadata": {},
   "outputs": [
    {
     "data": {
      "text/plain": [
       "(21310, 7)"
      ]
     },
     "execution_count": 95,
     "metadata": {},
     "output_type": "execute_result"
    }
   ],
   "source": [
    "dataset_delay.shape"
   ]
  },
  {
   "cell_type": "code",
   "execution_count": 6,
   "metadata": {},
   "outputs": [],
   "source": [
    "# Drop the rows where at least one element is missing.\n",
    "dataset_delay = dataset_delay.dropna(subset = ['delay_at_checkout_in_minutes'])"
   ]
  },
  {
   "cell_type": "code",
   "execution_count": 10,
   "metadata": {},
   "outputs": [
    {
     "data": {
      "text/plain": [
       "(16346, 7)"
      ]
     },
     "execution_count": 10,
     "metadata": {},
     "output_type": "execute_result"
    }
   ],
   "source": [
    "dataset_delay.shape"
   ]
  },
  {
   "cell_type": "code",
   "execution_count": 12,
   "metadata": {},
   "outputs": [
    {
     "data": {
      "text/html": [
       "<div>\n",
       "<style scoped>\n",
       "    .dataframe tbody tr th:only-of-type {\n",
       "        vertical-align: middle;\n",
       "    }\n",
       "\n",
       "    .dataframe tbody tr th {\n",
       "        vertical-align: top;\n",
       "    }\n",
       "\n",
       "    .dataframe thead th {\n",
       "        text-align: right;\n",
       "    }\n",
       "</style>\n",
       "<table border=\"1\" class=\"dataframe\">\n",
       "  <thead>\n",
       "    <tr style=\"text-align: right;\">\n",
       "      <th></th>\n",
       "      <th>Unnamed: 0</th>\n",
       "      <th>model_key</th>\n",
       "      <th>mileage</th>\n",
       "      <th>engine_power</th>\n",
       "      <th>fuel</th>\n",
       "      <th>paint_color</th>\n",
       "      <th>car_type</th>\n",
       "      <th>private_parking_available</th>\n",
       "      <th>has_gps</th>\n",
       "      <th>has_air_conditioning</th>\n",
       "      <th>automatic_car</th>\n",
       "      <th>has_getaround_connect</th>\n",
       "      <th>has_speed_regulator</th>\n",
       "      <th>winter_tires</th>\n",
       "      <th>rental_price_per_day</th>\n",
       "    </tr>\n",
       "  </thead>\n",
       "  <tbody>\n",
       "    <tr>\n",
       "      <th>0</th>\n",
       "      <td>0</td>\n",
       "      <td>Citroën</td>\n",
       "      <td>140411</td>\n",
       "      <td>100</td>\n",
       "      <td>diesel</td>\n",
       "      <td>black</td>\n",
       "      <td>convertible</td>\n",
       "      <td>True</td>\n",
       "      <td>True</td>\n",
       "      <td>False</td>\n",
       "      <td>False</td>\n",
       "      <td>True</td>\n",
       "      <td>True</td>\n",
       "      <td>True</td>\n",
       "      <td>106</td>\n",
       "    </tr>\n",
       "    <tr>\n",
       "      <th>1</th>\n",
       "      <td>1</td>\n",
       "      <td>Citroën</td>\n",
       "      <td>13929</td>\n",
       "      <td>317</td>\n",
       "      <td>petrol</td>\n",
       "      <td>grey</td>\n",
       "      <td>convertible</td>\n",
       "      <td>True</td>\n",
       "      <td>True</td>\n",
       "      <td>False</td>\n",
       "      <td>False</td>\n",
       "      <td>False</td>\n",
       "      <td>True</td>\n",
       "      <td>True</td>\n",
       "      <td>264</td>\n",
       "    </tr>\n",
       "    <tr>\n",
       "      <th>2</th>\n",
       "      <td>2</td>\n",
       "      <td>Citroën</td>\n",
       "      <td>183297</td>\n",
       "      <td>120</td>\n",
       "      <td>diesel</td>\n",
       "      <td>white</td>\n",
       "      <td>convertible</td>\n",
       "      <td>False</td>\n",
       "      <td>False</td>\n",
       "      <td>False</td>\n",
       "      <td>False</td>\n",
       "      <td>True</td>\n",
       "      <td>False</td>\n",
       "      <td>True</td>\n",
       "      <td>101</td>\n",
       "    </tr>\n",
       "    <tr>\n",
       "      <th>3</th>\n",
       "      <td>3</td>\n",
       "      <td>Citroën</td>\n",
       "      <td>128035</td>\n",
       "      <td>135</td>\n",
       "      <td>diesel</td>\n",
       "      <td>red</td>\n",
       "      <td>convertible</td>\n",
       "      <td>True</td>\n",
       "      <td>True</td>\n",
       "      <td>False</td>\n",
       "      <td>False</td>\n",
       "      <td>True</td>\n",
       "      <td>True</td>\n",
       "      <td>True</td>\n",
       "      <td>158</td>\n",
       "    </tr>\n",
       "    <tr>\n",
       "      <th>4</th>\n",
       "      <td>4</td>\n",
       "      <td>Citroën</td>\n",
       "      <td>97097</td>\n",
       "      <td>160</td>\n",
       "      <td>diesel</td>\n",
       "      <td>silver</td>\n",
       "      <td>convertible</td>\n",
       "      <td>True</td>\n",
       "      <td>True</td>\n",
       "      <td>False</td>\n",
       "      <td>False</td>\n",
       "      <td>False</td>\n",
       "      <td>True</td>\n",
       "      <td>True</td>\n",
       "      <td>183</td>\n",
       "    </tr>\n",
       "  </tbody>\n",
       "</table>\n",
       "</div>"
      ],
      "text/plain": [
       "   Unnamed: 0 model_key  mileage  engine_power    fuel paint_color  \\\n",
       "0           0   Citroën   140411           100  diesel       black   \n",
       "1           1   Citroën    13929           317  petrol        grey   \n",
       "2           2   Citroën   183297           120  diesel       white   \n",
       "3           3   Citroën   128035           135  diesel         red   \n",
       "4           4   Citroën    97097           160  diesel      silver   \n",
       "\n",
       "      car_type  private_parking_available  has_gps  has_air_conditioning  \\\n",
       "0  convertible                       True     True                 False   \n",
       "1  convertible                       True     True                 False   \n",
       "2  convertible                      False    False                 False   \n",
       "3  convertible                       True     True                 False   \n",
       "4  convertible                       True     True                 False   \n",
       "\n",
       "   automatic_car  has_getaround_connect  has_speed_regulator  winter_tires  \\\n",
       "0          False                   True                 True          True   \n",
       "1          False                  False                 True          True   \n",
       "2          False                   True                False          True   \n",
       "3          False                   True                 True          True   \n",
       "4          False                  False                 True          True   \n",
       "\n",
       "   rental_price_per_day  \n",
       "0                   106  \n",
       "1                   264  \n",
       "2                   101  \n",
       "3                   158  \n",
       "4                   183  "
      ]
     },
     "execution_count": 12,
     "metadata": {},
     "output_type": "execute_result"
    }
   ],
   "source": [
    "dataset_pricing.head()"
   ]
  },
  {
   "cell_type": "code",
   "execution_count": 113,
   "metadata": {},
   "outputs": [
    {
     "data": {
      "text/plain": [
       "16346"
      ]
     },
     "execution_count": 113,
     "metadata": {},
     "output_type": "execute_result"
    }
   ],
   "source": [
    "dataset_delay"
   ]
  },
  {
   "cell_type": "code",
   "execution_count": 12,
   "metadata": {},
   "outputs": [
    {
     "data": {
      "text/plain": [
       "Index(['Unnamed: 0', 'model_key', 'mileage', 'engine_power', 'fuel',\n",
       "       'paint_color', 'car_type', 'private_parking_available', 'has_gps',\n",
       "       'has_air_conditioning', 'automatic_car', 'has_getaround_connect',\n",
       "       'has_speed_regulator', 'winter_tires', 'rental_price_per_day'],\n",
       "      dtype='object')"
      ]
     },
     "execution_count": 12,
     "metadata": {},
     "output_type": "execute_result"
    }
   ],
   "source": [
    "dataset_pricing.columns"
   ]
  },
  {
   "cell_type": "code",
   "execution_count": 13,
   "metadata": {},
   "outputs": [
    {
     "data": {
      "text/plain": [
       "Index(['rental_id', 'car_id', 'checkin_type', 'state',\n",
       "       'delay_at_checkout_in_minutes', 'previous_ended_rental_id',\n",
       "       'time_delta_with_previous_rental_in_minutes'],\n",
       "      dtype='object')"
      ]
     },
     "execution_count": 13,
     "metadata": {},
     "output_type": "execute_result"
    }
   ],
   "source": [
    "dataset_delay.columns"
   ]
  },
  {
   "cell_type": "markdown",
   "metadata": {},
   "source": [
    "# Question 1 : Which share of our owner’s revenue would potentially be affected by the feature ?"
   ]
  },
  {
   "cell_type": "code",
   "execution_count": 14,
   "metadata": {},
   "outputs": [
    {
     "data": {
      "text/plain": [
       "has_getaround_connect\n",
       "False    111.339074\n",
       "True     132.786099\n",
       "Name: rental_price_per_day, dtype: float64"
      ]
     },
     "execution_count": 14,
     "metadata": {},
     "output_type": "execute_result"
    }
   ],
   "source": [
    "dataset_pricing['rental_price_per_day'].groupby(dataset_pricing['has_getaround_connect']).mean()"
   ]
  },
  {
   "cell_type": "markdown",
   "metadata": {},
   "source": [
    "# Question 2 : How many rentals would be affected by the feature depending on the threshold and scope we choose?"
   ]
  },
  {
   "cell_type": "code",
   "execution_count": 102,
   "metadata": {},
   "outputs": [
    {
     "data": {
      "text/plain": [
       "Index(['rental_id', 'car_id', 'checkin_type', 'state',\n",
       "       'delay_at_checkout_in_minutes', 'previous_ended_rental_id',\n",
       "       'time_delta_with_previous_rental_in_minutes'],\n",
       "      dtype='object')"
      ]
     },
     "execution_count": 102,
     "metadata": {},
     "output_type": "execute_result"
    }
   ],
   "source": [
    "dataset_delay.columns"
   ]
  },
  {
   "cell_type": "code",
   "execution_count": 109,
   "metadata": {},
   "outputs": [
    {
     "data": {
      "image/png": "[encoded data removed]",
      "text/plain": [
       "<Figure size 1152x1440 with 6 Axes>"
      ]
     },
     "metadata": {
      "needs_background": "light"
     },
     "output_type": "display_data"
    }
   ],
   "source": [
    "# listing dataframes types\n",
    "list(set(dataset_delay.dtypes.tolist()))\n",
    "# include only float and integer\n",
    "df_delay_num = dataset_delay.select_dtypes(include = ['float64', 'int64', 'UInt32'])\n",
    "# display what has been selected\n",
    "df_delay_num.head()\n",
    "# plot\n",
    "df_delay_num.hist(figsize=(16, 20), bins=200, xlabelsize=8, ylabelsize=8);"
   ]
  },
  {
   "cell_type": "code",
   "execution_count": 104,
   "metadata": {},
   "outputs": [],
   "source": [
    "#Count the number of cases where the delay at check out was higher than expected\n",
    "dataset_delay['delay_problem']= dataset_delay['delay_at_checkout_in_minutes']-dataset_delay['time_delta_with_previous_rental_in_minutes']"
   ]
  },
  {
   "cell_type": "code",
   "execution_count": 105,
   "metadata": {},
   "outputs": [
    {
     "data": {
      "text/html": [
       "<div>\n",
       "<style scoped>\n",
       "    .dataframe tbody tr th:only-of-type {\n",
       "        vertical-align: middle;\n",
       "    }\n",
       "\n",
       "    .dataframe tbody tr th {\n",
       "        vertical-align: top;\n",
       "    }\n",
       "\n",
       "    .dataframe thead th {\n",
       "        text-align: right;\n",
       "    }\n",
       "</style>\n",
       "<table border=\"1\" class=\"dataframe\">\n",
       "  <thead>\n",
       "    <tr style=\"text-align: right;\">\n",
       "      <th></th>\n",
       "      <th>rental_id</th>\n",
       "      <th>car_id</th>\n",
       "      <th>checkin_type</th>\n",
       "      <th>state</th>\n",
       "      <th>delay_at_checkout_in_minutes</th>\n",
       "      <th>previous_ended_rental_id</th>\n",
       "      <th>time_delta_with_previous_rental_in_minutes</th>\n",
       "      <th>delay_problem</th>\n",
       "    </tr>\n",
       "  </thead>\n",
       "  <tbody>\n",
       "    <tr>\n",
       "      <th>0</th>\n",
       "      <td>507750.0</td>\n",
       "      <td>269550.0</td>\n",
       "      <td>mobile</td>\n",
       "      <td>ended</td>\n",
       "      <td>-81.0</td>\n",
       "      <td>NaN</td>\n",
       "      <td>NaN</td>\n",
       "      <td>NaN</td>\n",
       "    </tr>\n",
       "    <tr>\n",
       "      <th>1</th>\n",
       "      <td>508131.0</td>\n",
       "      <td>359049.0</td>\n",
       "      <td>connect</td>\n",
       "      <td>ended</td>\n",
       "      <td>70.0</td>\n",
       "      <td>NaN</td>\n",
       "      <td>NaN</td>\n",
       "      <td>NaN</td>\n",
       "    </tr>\n",
       "    <tr>\n",
       "      <th>2</th>\n",
       "      <td>511626.0</td>\n",
       "      <td>398802.0</td>\n",
       "      <td>mobile</td>\n",
       "      <td>ended</td>\n",
       "      <td>-203.0</td>\n",
       "      <td>NaN</td>\n",
       "      <td>NaN</td>\n",
       "      <td>NaN</td>\n",
       "    </tr>\n",
       "    <tr>\n",
       "      <th>3</th>\n",
       "      <td>511639.0</td>\n",
       "      <td>370585.0</td>\n",
       "      <td>connect</td>\n",
       "      <td>ended</td>\n",
       "      <td>-15.0</td>\n",
       "      <td>563782.0</td>\n",
       "      <td>570.0</td>\n",
       "      <td>-585.0</td>\n",
       "    </tr>\n",
       "    <tr>\n",
       "      <th>4</th>\n",
       "      <td>512303.0</td>\n",
       "      <td>371242.0</td>\n",
       "      <td>mobile</td>\n",
       "      <td>ended</td>\n",
       "      <td>-44.0</td>\n",
       "      <td>NaN</td>\n",
       "      <td>NaN</td>\n",
       "      <td>NaN</td>\n",
       "    </tr>\n",
       "    <tr>\n",
       "      <th>...</th>\n",
       "      <td>...</td>\n",
       "      <td>...</td>\n",
       "      <td>...</td>\n",
       "      <td>...</td>\n",
       "      <td>...</td>\n",
       "      <td>...</td>\n",
       "      <td>...</td>\n",
       "      <td>...</td>\n",
       "    </tr>\n",
       "    <tr>\n",
       "      <th>16341</th>\n",
       "      <td>573322.0</td>\n",
       "      <td>376491.0</td>\n",
       "      <td>connect</td>\n",
       "      <td>ended</td>\n",
       "      <td>-66.0</td>\n",
       "      <td>NaN</td>\n",
       "      <td>NaN</td>\n",
       "      <td>NaN</td>\n",
       "    </tr>\n",
       "    <tr>\n",
       "      <th>16342</th>\n",
       "      <td>573790.0</td>\n",
       "      <td>341965.0</td>\n",
       "      <td>mobile</td>\n",
       "      <td>ended</td>\n",
       "      <td>-337.0</td>\n",
       "      <td>NaN</td>\n",
       "      <td>NaN</td>\n",
       "      <td>NaN</td>\n",
       "    </tr>\n",
       "    <tr>\n",
       "      <th>16343</th>\n",
       "      <td>573791.0</td>\n",
       "      <td>364890.0</td>\n",
       "      <td>mobile</td>\n",
       "      <td>ended</td>\n",
       "      <td>144.0</td>\n",
       "      <td>NaN</td>\n",
       "      <td>NaN</td>\n",
       "      <td>NaN</td>\n",
       "    </tr>\n",
       "    <tr>\n",
       "      <th>16344</th>\n",
       "      <td>574852.0</td>\n",
       "      <td>362531.0</td>\n",
       "      <td>connect</td>\n",
       "      <td>ended</td>\n",
       "      <td>-76.0</td>\n",
       "      <td>NaN</td>\n",
       "      <td>NaN</td>\n",
       "      <td>NaN</td>\n",
       "    </tr>\n",
       "    <tr>\n",
       "      <th>16345</th>\n",
       "      <td>575056.0</td>\n",
       "      <td>351549.0</td>\n",
       "      <td>connect</td>\n",
       "      <td>ended</td>\n",
       "      <td>35.0</td>\n",
       "      <td>NaN</td>\n",
       "      <td>NaN</td>\n",
       "      <td>NaN</td>\n",
       "    </tr>\n",
       "  </tbody>\n",
       "</table>\n",
       "<p>16346 rows × 8 columns</p>\n",
       "</div>"
      ],
      "text/plain": [
       "       rental_id    car_id checkin_type  state  delay_at_checkout_in_minutes  \\\n",
       "0       507750.0  269550.0       mobile  ended                         -81.0   \n",
       "1       508131.0  359049.0      connect  ended                          70.0   \n",
       "2       511626.0  398802.0       mobile  ended                        -203.0   \n",
       "3       511639.0  370585.0      connect  ended                         -15.0   \n",
       "4       512303.0  371242.0       mobile  ended                         -44.0   \n",
       "...          ...       ...          ...    ...                           ...   \n",
       "16341   573322.0  376491.0      connect  ended                         -66.0   \n",
       "16342   573790.0  341965.0       mobile  ended                        -337.0   \n",
       "16343   573791.0  364890.0       mobile  ended                         144.0   \n",
       "16344   574852.0  362531.0      connect  ended                         -76.0   \n",
       "16345   575056.0  351549.0      connect  ended                          35.0   \n",
       "\n",
       "       previous_ended_rental_id  time_delta_with_previous_rental_in_minutes  \\\n",
       "0                           NaN                                         NaN   \n",
       "1                           NaN                                         NaN   \n",
       "2                           NaN                                         NaN   \n",
       "3                      563782.0                                       570.0   \n",
       "4                           NaN                                         NaN   \n",
       "...                         ...                                         ...   \n",
       "16341                       NaN                                         NaN   \n",
       "16342                       NaN                                         NaN   \n",
       "16343                       NaN                                         NaN   \n",
       "16344                       NaN                                         NaN   \n",
       "16345                       NaN                                         NaN   \n",
       "\n",
       "       delay_problem  \n",
       "0                NaN  \n",
       "1                NaN  \n",
       "2                NaN  \n",
       "3             -585.0  \n",
       "4                NaN  \n",
       "...              ...  \n",
       "16341            NaN  \n",
       "16342            NaN  \n",
       "16343            NaN  \n",
       "16344            NaN  \n",
       "16345            NaN  \n",
       "\n",
       "[16346 rows x 8 columns]"
      ]
     },
     "execution_count": 105,
     "metadata": {},
     "output_type": "execute_result"
    }
   ],
   "source": [
    "dataset_delay.dropna(subset=['delay_at_checkout_in_minutes'], inplace=True)\n",
    "dataset_delay = dataset_delay.reset_index(drop=True)\n",
    "dataset_delay"
   ]
  },
  {
   "cell_type": "code",
   "execution_count": 85,
   "metadata": {},
   "outputs": [
    {
     "data": {
      "text/plain": [
       "mobile     17003\n",
       "connect     4307\n",
       "Name: checkin_type, dtype: int64"
      ]
     },
     "execution_count": 85,
     "metadata": {},
     "output_type": "execute_result"
    }
   ],
   "source": [
    "dataset_delay.checkin_type.value_counts()"
   ]
  },
  {
   "cell_type": "code",
   "execution_count": 106,
   "metadata": {},
   "outputs": [],
   "source": [
    "def compute_stats_threshold(delay_tresh, check_type):\n",
    "    if check_type == 'connect':\n",
    "        nb_rent_above_threshold = dataset_delay[(dataset_delay['delay_at_checkout_in_minutes'] > delay_tresh) & (dataset_delay['checkin_type']=='connect')].count()\n",
    "    else :\n",
    "        nb_rent_above_threshold = dataset_delay[(dataset_delay['delay_at_checkout_in_minutes'] > delay_tresh) & (dataset_delay['checkin_type']=='mobile')].count()\n",
    "    return nb_rent_above_threshold"
   ]
  },
  {
   "cell_type": "code",
   "execution_count": 107,
   "metadata": {},
   "outputs": [],
   "source": [
    "x_plot=dict()\n",
    "y_mobile=dict()\n",
    "y_connect=dict()\n",
    "y_mobile_ratio=dict()\n",
    "y_connect_ratio=dict()\n",
    "\n",
    "nb_rent_connect=  dataset_delay[dataset_delay['checkin_type']=='connect'].count()[0]\n",
    "nb_rent_mobile=  dataset_delay[dataset_delay['checkin_type']=='mobile'].count()[0]\n",
    "\n",
    "for i in range (0,400):\n",
    "    x_plot[i]=i\n",
    "    y_mobile[i]=(compute_stats_threshold(i,'mobile')[0])\n",
    "    y_connect[i]=(compute_stats_threshold(i,'connect')[0])\n",
    "    y_mobile_ratio[i]=(compute_stats_threshold(i,'mobile')[0])/nb_rent_mobile*100\n",
    "    y_connect_ratio[i]=(compute_stats_threshold(i,'connect')[0])/nb_rent_connect*100"
   ]
  },
  {
   "cell_type": "markdown",
   "metadata": {},
   "source": [
    "Il y a 28% de perte de location pour les réservations sur mobile avec 1h de battement entre deux locations. 18% pour les réservations avec connect"
   ]
  },
  {
   "cell_type": "code",
   "execution_count": 108,
   "metadata": {},
   "outputs": [
    {
     "data": {
      "text/plain": [
       "<AxesSubplot:xlabel='Threshold (min)', ylabel='Rent_lost_mobile(%)'>"
      ]
     },
     "execution_count": 108,
     "metadata": {},
     "output_type": "execute_result"
    },
    {
     "data": {
      "image/png": "[encoded data removed]",
      "text/plain": [
       "<Figure size 432x288 with 1 Axes>"
      ]
     },
     "metadata": {
      "needs_background": "light"
     },
     "output_type": "display_data"
    }
   ],
   "source": [
    "# Plot the responses for different events and regions\n",
    "df_delay_stat_treshold = pd.DataFrame({'Threshold (min)': x_plot.values(),'Rent_lost_mobile(%)': y_mobile_ratio.values(),'Rent_lost_connect(%)': y_connect_ratio.values()})\n",
    "sns.lineplot(x='Threshold (min)', y=\"Rent_lost_mobile(%)\",data=df_delay_stat_treshold)\n",
    "sns.lineplot(x='Threshold (min)', y=\"Rent_lost_connect(%)\",data=df_delay_stat_treshold)"
   ]
  },
  {
   "cell_type": "code",
   "execution_count": 110,
   "metadata": {},
   "outputs": [
    {
     "data": {
      "text/plain": [
       "Threshold (min)          2.000000\n",
       "Rent_lost_mobile(%)     59.765142\n",
       "Rent_lost_connect(%)    41.358025\n",
       "Name: 2, dtype: float64"
      ]
     },
     "execution_count": 110,
     "metadata": {},
     "output_type": "execute_result"
    }
   ],
   "source": [
    "df_delay_stat_treshold.iloc[2]"
   ]
  },
  {
   "cell_type": "code",
   "execution_count": 111,
   "metadata": {},
   "outputs": [
    {
     "data": {
      "image/png": "[encoded data removed]",
      "text/plain": [
       "<Figure size 432x288 with 1 Axes>"
      ]
     },
     "metadata": {
      "needs_background": "light"
     },
     "output_type": "display_data"
    }
   ],
   "source": [
    "# Plot the responses for different events and regions\n",
    "df_delay_stat_treshold = pd.DataFrame({'Threshold (min)': x_plot.values(),'Rent_lost_mobile(nb)': y_mobile.values(),'Rent_lost_connect(nb)': y_connect.values()})\n",
    "sns.lineplot(x = 'Threshold (min)', y = \"Rent_lost_mobile(nb)\", data = df_delay_stat_treshold)\n",
    "sns.lineplot(x = 'Threshold (min)', y = \"Rent_lost_connect(nb)\", data = df_delay_stat_treshold)\n",
    "plt.title('Nombre de locations perdues')\n",
    "plt.legend(labels = [\"Mobile\", \"Connect\"], loc = \"upper right\");\n"
   ]
  },
  {
   "cell_type": "markdown",
   "metadata": {},
   "source": [
    "# Question 4 : How many problematic cases will it solve depending on the chosen threshold and scope?"
   ]
  },
  {
   "cell_type": "code",
   "execution_count": 16,
   "metadata": {},
   "outputs": [
    {
     "data": {
      "image/png": "[encoded data removed]",
      "text/plain": [
       "<Figure size 432x432 with 1 Axes>"
      ]
     },
     "metadata": {
      "needs_background": "light"
     },
     "output_type": "display_data"
    },
    {
     "data": {
      "image/png": "[encoded data removed]",
      "text/plain": [
       "<Figure size 432x432 with 1 Axes>"
      ]
     },
     "metadata": {
      "needs_background": "light"
     },
     "output_type": "display_data"
    }
   ],
   "source": [
    "features = ['delay_at_checkout_in_minutes','time_delta_with_previous_rental_in_minutes']\n",
    "for col in features:\n",
    "    dataset_delay.boxplot(column=col, by='checkin_type', figsize=(6,6))\n",
    "    plt.title(col)\n",
    "plt.show()"
   ]
  },
  {
   "cell_type": "code",
   "execution_count": 17,
   "metadata": {},
   "outputs": [
    {
     "data": {
      "image/png": "[encoded data removed]",
      "text/plain": [
       "<Figure size 576x864 with 3 Axes>"
      ]
     },
     "metadata": {
      "needs_background": "light"
     },
     "output_type": "display_data"
    }
   ],
   "source": [
    "# Analyse statistique par type de réservation\n",
    "fig, axes = plt.subplots(3,1,figsize=(8,12))\n",
    "sns.color_palette(\"hls\", 8)\n",
    "sns.histplot(data=dataset_delay, x=\"time_delta_with_previous_rental_in_minutes\",hue=dataset_delay[\"checkin_type\"],multiple='stack',bins=10,stat=\"count\",ax=axes[0])\n",
    "sns.histplot(data=dataset_delay, x=\"delay_at_checkout_in_minutes\",hue=dataset_delay[\"checkin_type\"],multiple='stack',bins=5000,stat=\"count\",ax=axes[1])\n",
    "sns.histplot(data=dataset_delay, x=\"delay_problem\",hue=dataset_delay[\"checkin_type\"],multiple='stack',bins=500,stat=\"count\",ax=axes[2])\n",
    "axes[0].set_xlim(0, 900)\n",
    "axes[1].set_xlim(-500,500)\n",
    "axes[2].set_xlim(0, 500)\n",
    "plt.show()"
   ]
  },
  {
   "cell_type": "code",
   "execution_count": 18,
   "metadata": {},
   "outputs": [
    {
     "data": {
      "image/png": "[encoded data removed]",
      "text/plain": [
       "<Figure size 432x288 with 1 Axes>"
      ]
     },
     "metadata": {
      "needs_background": "light"
     },
     "output_type": "display_data"
    }
   ],
   "source": [
    "df_delay_reduced = df_delay_num[(df_delay_num['delay_at_checkout_in_minutes'] > -200) & (df_delay_num['delay_at_checkout_in_minutes'] < 200)]\n",
    "plt.scatter(df_delay_reduced['delay_at_checkout_in_minutes'], df_delay_reduced['time_delta_with_previous_rental_in_minutes'], alpha=0.5)\n",
    "plt.show()"
   ]
  },
  {
   "cell_type": "markdown",
   "metadata": {},
   "source": [
    "# Prédiction - Regression"
   ]
  },
  {
   "cell_type": "code",
   "execution_count": 15,
   "metadata": {},
   "outputs": [],
   "source": [
    "dataset_pricing = pd.read_csv('get_around_pricing_project.csv')"
   ]
  },
  {
   "cell_type": "code",
   "execution_count": 16,
   "metadata": {},
   "outputs": [
    {
     "data": {
      "text/plain": [
       "(4843, 15)"
      ]
     },
     "execution_count": 16,
     "metadata": {},
     "output_type": "execute_result"
    }
   ],
   "source": [
    "dataset_pricing.shape"
   ]
  },
  {
   "cell_type": "code",
   "execution_count": 17,
   "metadata": {},
   "outputs": [
    {
     "data": {
      "text/plain": [
       "<AxesSubplot:>"
      ]
     },
     "execution_count": 17,
     "metadata": {},
     "output_type": "execute_result"
    },
    {
     "data": {
      "image/png": "[encoded data removed]",
      "text/plain": [
       "<Figure size 432x288 with 1 Axes>"
      ]
     },
     "metadata": {
      "needs_background": "light"
     },
     "output_type": "display_data"
    }
   ],
   "source": [
    "dataset_pricing.rental_price_per_day.hist(bins=60)"
   ]
  },
  {
   "cell_type": "code",
   "execution_count": 18,
   "metadata": {},
   "outputs": [],
   "source": [
    "dataset_pricing = dataset_pricing.drop(\"Unnamed: 0\", axis =1)"
   ]
  },
  {
   "cell_type": "code",
   "execution_count": 19,
   "metadata": {},
   "outputs": [
    {
     "data": {
      "text/plain": [
       "Citroën       969\n",
       "Renault       916\n",
       "BMW           827\n",
       "Peugeot       642\n",
       "Audi          526\n",
       "Nissan        275\n",
       "Mitsubishi    231\n",
       "Mercedes       97\n",
       "Volkswagen     65\n",
       "Luxe           59\n",
       "Toyota         53\n",
       "SEAT           46\n",
       "Subaru         44\n",
       "PGO            33\n",
       "Opel           33\n",
       "Autres         27\n",
       "Name: model_key, dtype: int64"
      ]
     },
     "execution_count": 19,
     "metadata": {},
     "output_type": "execute_result"
    }
   ],
   "source": [
    "dataset_pricing.model_key = dataset_pricing.model_key.replace([\"Maserati\", \"Ferrari\", \"Porsche\", \"Lamborghini\"], \"Luxe\")\n",
    "dataset_pricing.model_key = dataset_pricing.model_key.replace(dataset_pricing.model_key.value_counts()[dataset_pricing.model_key.value_counts() < 10].index, \"Autres\")\n",
    "dataset_pricing.model_key.value_counts()"
   ]
  },
  {
   "cell_type": "markdown",
   "metadata": {},
   "source": [
    "Suppression des outliers"
   ]
  },
  {
   "cell_type": "code",
   "execution_count": 20,
   "metadata": {},
   "outputs": [],
   "source": [
    "dataset_pricing = dataset_pricing[(dataset_pricing['engine_power'] > 50) & (dataset_pricing['engine_power'] < 400)]\n",
    "dataset_pricing = dataset_pricing[dataset_pricing['mileage'] < 700000]\n",
    "dataset_pricing = dataset_pricing[dataset_pricing['rental_price_per_day'] < 275]"
   ]
  },
  {
   "cell_type": "code",
   "execution_count": 21,
   "metadata": {},
   "outputs": [
    {
     "data": {
      "text/plain": [
       "model_key                    0\n",
       "mileage                      0\n",
       "engine_power                 0\n",
       "fuel                         0\n",
       "paint_color                  0\n",
       "car_type                     0\n",
       "private_parking_available    0\n",
       "has_gps                      0\n",
       "has_air_conditioning         0\n",
       "automatic_car                0\n",
       "has_getaround_connect        0\n",
       "has_speed_regulator          0\n",
       "winter_tires                 0\n",
       "rental_price_per_day         0\n",
       "dtype: int64"
      ]
     },
     "execution_count": 21,
     "metadata": {},
     "output_type": "execute_result"
    }
   ],
   "source": [
    "dataset_pricing.isnull().sum()"
   ]
  },
  {
   "cell_type": "code",
   "execution_count": 30,
   "metadata": {},
   "outputs": [],
   "source": [
    "categorical = dataset_pricing.columns.drop([\"mileage\",\"engine_power\", \"rental_price_per_day\"])\n",
    "continuous = [\"mileage\",\"engine_power\"]"
   ]
  },
  {
   "cell_type": "code",
   "execution_count": 24,
   "metadata": {},
   "outputs": [
    {
     "data": {
      "text/plain": [
       "<seaborn.axisgrid.PairGrid at 0x7f6f1826f6d0>"
      ]
     },
     "execution_count": 24,
     "metadata": {},
     "output_type": "execute_result"
    },
    {
     "data": {
      "image/png": "[encoded data removed]",
      "text/plain": [
       "<Figure size 540x540 with 12 Axes>"
      ]
     },
     "metadata": {
      "needs_background": "light"
     },
     "output_type": "display_data"
    }
   ],
   "source": [
    "sns.pairplot(dataset_pricing[continuous])"
   ]
  },
  {
   "cell_type": "code",
   "execution_count": 29,
   "metadata": {},
   "outputs": [
    {
     "data": {
      "text/plain": [
       "Index(['model_key', 'mileage', 'engine_power', 'fuel', 'paint_color',\n",
       "       'car_type', 'private_parking_available', 'has_gps',\n",
       "       'has_air_conditioning', 'automatic_car', 'has_getaround_connect',\n",
       "       'has_speed_regulator', 'winter_tires'],\n",
       "      dtype='object')"
      ]
     },
     "execution_count": 29,
     "metadata": {},
     "output_type": "execute_result"
    }
   ],
   "source": [
    "dataset_pricing.columns.drop([\"rental_price_per_day\"])"
   ]
  },
  {
   "cell_type": "code",
   "execution_count": 31,
   "metadata": {},
   "outputs": [
    {
     "name": "stdout",
     "output_type": "stream",
     "text": [
      "Separating labels from features...\n",
      "...Done.\n",
      "\n",
      "Y : \n",
      "0    106\n",
      "1    264\n",
      "2    101\n",
      "3    158\n",
      "4    183\n",
      "Name: rental_price_per_day, dtype: int64\n",
      "\n",
      "X :\n",
      "  model_key  mileage  engine_power    fuel paint_color     car_type  \\\n",
      "0   Citroën   140411           100  diesel       black  convertible   \n",
      "1   Citroën    13929           317  petrol        grey  convertible   \n",
      "2   Citroën   183297           120  diesel       white  convertible   \n",
      "3   Citroën   128035           135  diesel         red  convertible   \n",
      "4   Citroën    97097           160  diesel      silver  convertible   \n",
      "\n",
      "   private_parking_available  has_gps  has_air_conditioning  automatic_car  \\\n",
      "0                       True     True                 False          False   \n",
      "1                       True     True                 False          False   \n",
      "2                      False    False                 False          False   \n",
      "3                       True     True                 False          False   \n",
      "4                       True     True                 False          False   \n",
      "\n",
      "   has_getaround_connect  has_speed_regulator  winter_tires  \n",
      "0                   True                 True          True  \n",
      "1                  False                 True          True  \n",
      "2                   True                False          True  \n",
      "3                   True                 True          True  \n",
      "4                  False                 True          True  \n"
     ]
    }
   ],
   "source": [
    "# Separate target variable Y from features X\n",
    "print(\"Separating labels from features...\")\n",
    "features_list = dataset_pricing.columns.drop([\"rental_price_per_day\"])\n",
    "target_variable = \"rental_price_per_day\"\n",
    "\n",
    "X = dataset_pricing.loc[:,features_list]\n",
    "Y = dataset_pricing.loc[:,target_variable]\n",
    "\n",
    "print(\"...Done.\")\n",
    "print()\n",
    "\n",
    "print('Y : ')\n",
    "print(Y.head())\n",
    "print()\n",
    "print('X :')\n",
    "print(X.head())"
   ]
  },
  {
   "cell_type": "code",
   "execution_count": 32,
   "metadata": {},
   "outputs": [
    {
     "name": "stdout",
     "output_type": "stream",
     "text": [
      "Dividing into train and test sets...\n",
      "...Done.\n",
      "\n"
     ]
    }
   ],
   "source": [
    "# Divide dataset Train set & Test set \n",
    "print(\"Dividing into train and test sets...\")\n",
    "X_train, X_test, Y_train, Y_test = train_test_split(X, Y, test_size=0.2, random_state=0, stratify=X['car_type'])\n",
    "print(\"...Done.\")\n",
    "print()"
   ]
  },
  {
   "cell_type": "code",
   "execution_count": 33,
   "metadata": {},
   "outputs": [
    {
     "name": "stdout",
     "output_type": "stream",
     "text": [
      "Preprocessing X_train...\n",
      "     model_key  mileage  engine_power    fuel paint_color car_type  \\\n",
      "495    Renault   149069           135  diesel        blue   estate   \n",
      "4239       BMW   108628           140  diesel       black      suv   \n",
      "4326    Nissan    54723            85  diesel       brown      suv   \n",
      "1267   Renault   139012           135  diesel        grey   estate   \n",
      "722       Audi   305358           120  diesel        blue   estate   \n",
      "\n",
      "      private_parking_available  has_gps  has_air_conditioning  automatic_car  \\\n",
      "495                        True     True                  True          False   \n",
      "4239                       True     True                 False           True   \n",
      "4326                       True     True                  True          False   \n",
      "1267                       True     True                 False          False   \n",
      "722                        True     True                 False          False   \n",
      "\n",
      "      has_getaround_connect  has_speed_regulator  winter_tires  \n",
      "495                    True                 True          True  \n",
      "4239                   True                 True          True  \n",
      "4326                  False                False          True  \n",
      "1267                   True                 True          True  \n",
      "722                   False                False          True  \n",
      "\n",
      "...Done!\n",
      "  (0, 0)\t0.1370754976518035\n",
      "  (0, 1)\t0.156857209168489\n",
      "  (0, 12)\t1.0\n",
      "  (0, 21)\t1.0\n",
      "  (0, 30)\t1.0\n",
      "  (0, 36)\t1.0\n",
      "  (0, 37)\t1.0\n",
      "  (0, 38)\t1.0\n",
      "  (0, 40)\t1.0\n",
      "  (0, 41)\t1.0\n",
      "  (0, 42)\t1.0\n",
      "  (1, 0)\t-0.5504870836916702\n",
      "  (1, 1)\t0.28616158517670603\n",
      "  (1, 3)\t1.0\n",
      "  (1, 20)\t1.0\n",
      "  (1, 34)\t1.0\n",
      "  (1, 36)\t1.0\n",
      "  (1, 37)\t1.0\n",
      "  (1, 39)\t1.0\n",
      "  (1, 40)\t1.0\n",
      "  (1, 41)\t1.0\n",
      "  (1, 42)\t1.0\n",
      "  (2, 0)\t-1.4669594989959394\n",
      "  (2, 1)\t-1.1361865509136815\n",
      "  (2, 8)\t1.0\n",
      "  (2, 22)\t1.0\n",
      "  (2, 34)\t1.0\n",
      "  (2, 36)\t1.0\n",
      "  (2, 37)\t1.0\n",
      "  (2, 38)\t1.0\n",
      "  (2, 42)\t1.0\n",
      "  (3, 0)\t-0.03390981133094459\n",
      "  (3, 1)\t0.156857209168489\n",
      "  (3, 12)\t1.0\n",
      "  (3, 24)\t1.0\n",
      "  (3, 30)\t1.0\n",
      "  (3, 36)\t1.0\n",
      "  (3, 37)\t1.0\n",
      "  (3, 40)\t1.0\n",
      "  (3, 41)\t1.0\n",
      "  (3, 42)\t1.0\n",
      "  (4, 0)\t2.794241944465437\n",
      "  (4, 1)\t-0.23105591885616214\n",
      "  (4, 21)\t1.0\n",
      "  (4, 30)\t1.0\n",
      "  (4, 36)\t1.0\n",
      "  (4, 37)\t1.0\n",
      "  (4, 42)\t1.0\n",
      "\n"
     ]
    }
   ],
   "source": [
    "print(\"Preprocessing X_train...\")\n",
    "print(X_train.head())\n",
    "print()\n",
    "\n",
    "numeric_transformer = Pipeline(steps=[\n",
    "    ('scaler', StandardScaler())\n",
    "])\n",
    "categorical_transformer = Pipeline(\n",
    "    steps=[\n",
    "    ('encoder', OneHotEncoder(drop='first')) # first column will be dropped to avoid creating correlations between features\n",
    "    ])\n",
    "\n",
    "preprocessor = ColumnTransformer(\n",
    "    transformers=[\n",
    "        ('num', numeric_transformer, continuous),\n",
    "        ('cat', categorical_transformer, categorical)\n",
    "    ])\n",
    "\n",
    "X_train = preprocessor.fit_transform(X_train)\n",
    "print(\"...Done!\")\n",
    "print(X_train[0:5,:]) # X_train is now a numpy array\n",
    "print()"
   ]
  },
  {
   "cell_type": "code",
   "execution_count": 34,
   "metadata": {},
   "outputs": [
    {
     "name": "stdout",
     "output_type": "stream",
     "text": [
      "Preprocessing X_test...\n",
      "     model_key  mileage  engine_power    fuel paint_color car_type  \\\n",
      "2852      Audi   200019           150  diesel       black    sedan   \n",
      "4026       BMW    89713           120  diesel      silver      suv   \n",
      "3913    Nissan   179288           105  diesel       white      suv   \n",
      "3178   Peugeot   163289           100  diesel        grey    sedan   \n",
      "801       Audi   197565           120  diesel        blue   estate   \n",
      "\n",
      "      private_parking_available  has_gps  has_air_conditioning  automatic_car  \\\n",
      "2852                      False     True                 False          False   \n",
      "4026                       True     True                 False           True   \n",
      "3913                      False     True                 False          False   \n",
      "3178                       True     True                 False          False   \n",
      "801                        True    False                 False          False   \n",
      "\n",
      "      has_getaround_connect  has_speed_regulator  winter_tires  \n",
      "2852                  False                False          True  \n",
      "4026                   True                False          True  \n",
      "3913                  False                False          True  \n",
      "3178                  False                False          True  \n",
      "801                   False                False          True  \n",
      "\n",
      "...Done!\n",
      "  (0, 0)\t1.003308120966014\n",
      "  (0, 1)\t0.5447703371931402\n",
      "  (0, 20)\t1.0\n",
      "  (0, 32)\t1.0\n",
      "  (0, 37)\t1.0\n",
      "  (0, 42)\t1.0\n",
      "  (1, 0)\t-0.8720727572930105\n",
      "  (1, 1)\t-0.23105591885616214\n",
      "  (1, 3)\t1.0\n",
      "  (1, 27)\t1.0\n",
      "  (1, 34)\t1.0\n",
      "  (1, 36)\t1.0\n",
      "  (1, 37)\t1.0\n",
      "  (1, 39)\t1.0\n",
      "  (1, 40)\t1.0\n",
      "  (1, 42)\t1.0\n",
      "  (2, 0)\t0.6508475024394801\n",
      "  (2, 1)\t-0.6189690468808132\n",
      "  (2, 8)\t1.0\n",
      "  (2, 28)\t1.0\n",
      "  (2, 34)\t1.0\n",
      "  (2, 37)\t1.0\n",
      "  (2, 42)\t1.0\n",
      "  (3, 0)\t0.37883855758365964\n",
      "  (3, 1)\t-0.7482734228890303\n",
      "  (3, 11)\t1.0\n",
      "  (3, 24)\t1.0\n",
      "  (3, 32)\t1.0\n",
      "  (3, 36)\t1.0\n",
      "  (3, 37)\t1.0\n",
      "  (3, 42)\t1.0\n",
      "  (4, 0)\t0.9615861414250312\n",
      "  (4, 1)\t-0.23105591885616214\n",
      "  (4, 21)\t1.0\n",
      "  (4, 30)\t1.0\n",
      "  (4, 36)\t1.0\n",
      "  (4, 42)\t1.0\n",
      "\n"
     ]
    }
   ],
   "source": [
    "# Test pipeline\n",
    "print(\"Preprocessing X_test...\")\n",
    "print(X_test.head())\n",
    "print()\n",
    "X_test = preprocessor.transform(X_test)\n",
    "print(\"...Done!\")\n",
    "print(X_test[0:5,:]) # X_test is now a numpy array\n",
    "print() "
   ]
  },
  {
   "cell_type": "code",
   "execution_count": 35,
   "metadata": {},
   "outputs": [
    {
     "name": "stdout",
     "output_type": "stream",
     "text": [
      "Train model...\n",
      "...Done.\n"
     ]
    }
   ],
   "source": [
    "# Train model\n",
    "print(\"Train model...\")\n",
    "regressor = LinearRegression()\n",
    "regressor.fit(X_train, Y_train)\n",
    "print(\"...Done.\")"
   ]
  },
  {
   "cell_type": "code",
   "execution_count": 36,
   "metadata": {},
   "outputs": [
    {
     "name": "stdout",
     "output_type": "stream",
     "text": [
      "Predictions on training set...\n",
      "...Done.\n",
      "[129.45438071 151.76955187 123.46811248 ... 158.11967572  96.44514076\n",
      "  34.38124376]\n",
      "\n"
     ]
    }
   ],
   "source": [
    "# Predictions on training set\n",
    "print(\"Predictions on training set...\")\n",
    "Y_train_pred = regressor.predict(X_train)\n",
    "print(\"...Done.\")\n",
    "print(Y_train_pred)\n",
    "print()"
   ]
  },
  {
   "cell_type": "code",
   "execution_count": 37,
   "metadata": {},
   "outputs": [
    {
     "name": "stdout",
     "output_type": "stream",
     "text": [
      "Predictions on test set...\n",
      "...Done.\n",
      "[117.11971951 139.92612947 102.8384518  102.81757348  87.40480503\n",
      " 115.45463064  98.49313404 126.03556089 122.53952163  78.31679094\n",
      "  67.86642273 121.45717568 102.13777499 142.27824228 137.02934953\n",
      " 133.55204071  92.13643764 104.10951434 121.08510684 109.10296784\n",
      " 159.76254726 107.95210005 132.04337599 138.82345774 145.81582946\n",
      "  70.16817902 106.86346526 135.22611676 109.79677055 122.49342367\n",
      " 157.05524767 135.86975809 129.77784815 116.39027792 140.20932931\n",
      "  90.87838696  92.31936686 127.12041066 114.73705094  83.68880381\n",
      " 128.68152613 108.53767505  96.30692879 173.12983548 127.98211208\n",
      " 114.94287474 144.91918618 143.9785716   98.32452    129.37432969\n",
      " 114.95911978 108.5740242  127.18892774 111.92949264 123.87470987\n",
      " 153.20598572 178.27120791 131.25809483 105.52219921 142.56331169\n",
      " 106.24811808 114.71340946 174.7000277  137.96720273  67.743847\n",
      " 102.95739311 116.56664053 123.21685918 145.16714379 100.43231261\n",
      " 136.12642368 154.05159579 114.59437582 135.60097125  67.35570659\n",
      " 161.96135032 186.46580091 148.26249685 122.93966425 118.04907351\n",
      " 112.63423663 140.37659132 111.69973899  92.8630302   86.0984448\n",
      " 118.50361453 109.20680841 106.8509175  129.60812582 105.45526656\n",
      " 135.79596915 127.15207753 108.87707796 105.67305663 142.6988872\n",
      " 121.53990785 111.3630742   90.05538724 159.76300239 122.38795747\n",
      " 123.61271312 109.62804144 131.81545342 126.64952776 100.72806461\n",
      " 133.51100814 116.29284044  87.12459132 109.21549078  81.17952005\n",
      " 127.3786567   99.93195134 124.11495577 114.77601216  77.02722482\n",
      " 133.18529384  67.24915313 130.12682914 137.35907447 136.79762676\n",
      " 101.86467989 124.40582319 122.69829539  87.31574059 103.57371401\n",
      "  88.51421135 104.71148892  74.14737966 116.82015705 111.15527654\n",
      " 102.42366916 121.89203747 180.40743991  99.33764758 136.70520502\n",
      "  72.75218776 112.6141525  107.48457917  88.8368098  115.09684364\n",
      " 108.66183442  97.64769985 117.35449708 109.66391108  86.64242239\n",
      "  87.06621322 110.90458047  83.84026848 197.72475838 121.46020006\n",
      " 113.39061381 160.95638382 118.94414924  97.83748168  96.92855823\n",
      " 153.58167508 124.26526348 135.38710739 118.62081131  84.62423615\n",
      " 118.30771925 175.59862115  93.92180684 125.18444573  94.4308502\n",
      " 100.79083807 116.62425947 148.37889558 117.92410786 154.0794951\n",
      "  99.13987557 132.12108181 103.16557931 163.81652031  84.4880082\n",
      " 105.50666827 134.21830239  95.88110634 118.52659896 169.72362294\n",
      " 117.51171927 147.2835702  104.42944487 189.58586938 104.06139083\n",
      "  89.29977451  96.08035511 177.94281613 139.01038824 145.27828467\n",
      " 110.23900393 136.95627061 113.26413362 107.63832469 136.69224383\n",
      " 169.33454805 200.06394632 102.53788021 133.79397911 113.35818463\n",
      " 104.61088583 132.45407265 143.56633317 110.94519119 136.4640589\n",
      " 120.03073547  98.28920928 169.88511015 105.87960564 117.77551816\n",
      " 114.06675468 107.76905828 126.5573088  141.38671117 129.73136231\n",
      " 141.73424894 124.60379534 128.27259027 181.54527157 137.29850153\n",
      " 136.97215789 118.83249921 100.63784225 109.31480217 140.65889206\n",
      " 124.91386018 117.32892125 115.33856382 178.03363855 126.84332992\n",
      " 110.82611877 104.03244309 155.91209955 174.4160048   74.29629649\n",
      " 118.34859263 107.48966283 120.73128088  96.82349479 104.34907574\n",
      "  87.81924671  95.2493253  142.74393229  96.77108482 120.65313885\n",
      "  94.60113982 114.26603018 146.45210525 101.15991325 167.3599794\n",
      " 116.28073892  91.97818059 129.24655245 179.22955297 110.86744133\n",
      " 147.11507129 116.7091147  117.22267763 116.89984234 102.93793089\n",
      " 132.81056954 118.42360872 146.16372983 105.68441571 104.24717717\n",
      " 106.90319041 143.24772456 115.20407603 128.95400876 105.34880564\n",
      " 154.10951764 155.0287145   45.99423987  90.07188867 169.70288065\n",
      " 143.00133408 130.64200225 195.24668441 135.58438507 120.64009328\n",
      " 149.94036734 180.18346218 106.18719098 104.74108797 136.87716139\n",
      " 143.67208921  88.77407737  97.20337816 142.31399515 141.333152\n",
      "  88.46485675 113.83939537 161.04886874 113.30625407 133.02566813\n",
      " 129.87169919 113.41129726 125.42641838 117.0852823  107.38183412\n",
      " 107.06114191  84.63515006 114.4365028  113.20856921 170.98811662\n",
      " 110.23049669  68.40166262 108.96288461  85.32612026  90.52460742\n",
      "  79.12897781 117.51932503 173.51005611  96.74191495 175.13216519\n",
      " 121.43555523  99.76355001 162.76345226 105.21816416 103.03889823\n",
      " 110.00646137 111.75932712 123.62254716 111.93663057 115.19172429\n",
      " 112.21755319  92.37731776  93.41091292  98.14977723  70.91561592\n",
      " 152.79681245 112.10707592 120.74244296 159.96393108  91.73931145\n",
      " 155.98372649  68.85946026 148.50748669 123.84919127 114.79552398\n",
      " 168.95191163 103.27850378 148.1856708  183.27385383  91.82219219\n",
      "  96.0585855  126.28717806  95.62003432 115.40981379 144.82657861\n",
      " 143.85731006 116.51631203 182.37115856  94.30224886 145.67056558\n",
      " 108.03995162 113.4554318  111.80537048  71.09132777 124.65424584\n",
      " 158.31043138 110.62414201 111.42418659 106.91799163 137.09281092\n",
      " 111.50995463 112.46272317 104.02843416 104.48276033 114.64797762\n",
      " 124.76675668  88.03345079 101.95284263 155.16068275 134.14389489\n",
      " 109.13072585  96.82729861 122.08802856  94.36402725  69.8245211\n",
      " 109.03594657 110.5378136  120.67322063 123.97961603  96.46779361\n",
      " 129.3946262  113.80805706 212.97076734 124.14536382 160.17697733\n",
      " 188.55260155 131.78372782 177.49726603 127.5320032  161.21003674\n",
      "  90.25158621  65.28220617  99.62774572 143.1586538  135.1544976\n",
      "  77.72862414 106.22072976 108.64046486 141.52521322 120.17966462\n",
      " 136.9439403   97.08509066 124.11822075  75.85368424 130.30387537\n",
      " 178.03191148 130.52275361 163.3332396  134.08162954 126.94017413\n",
      "  95.18178229 117.5746431   98.34247118 139.20596445 123.26022637\n",
      "  98.66783613 143.37979345  98.44579665  94.88137373 107.8517903\n",
      " 101.68829216  96.70585467 145.57268883 114.29291695 136.7097392\n",
      "  99.12889133 115.84699713 123.00192284 126.87141182 156.67132399\n",
      "  95.17017372 123.14547956 159.28881813 129.43674568 101.01261574\n",
      " 101.27051996 145.3667405  105.12564419 137.38765801  69.54171527\n",
      "  96.5422006   92.76382264 100.08278466 132.32100496 115.59618865\n",
      " 110.79202337 132.42429233 164.57307951  67.68811678 108.77447941\n",
      " 167.32451448 162.30746766 118.64046744 117.90403638 121.89546587\n",
      " 132.41174785 152.32904615 101.57449312 126.41211404  93.36344979\n",
      " 103.98106077 160.72143705 148.76164504  99.51775984  79.13692865\n",
      " 146.90486487 120.57730694 138.77861392 109.60019596 118.1882425\n",
      " 103.550526   173.27012879 118.35745316  99.21783141  96.39429811\n",
      " 107.01395558 168.1632278  120.42218672 102.44638268 131.63704616\n",
      " 166.83071815 114.77641439 118.26951621 131.94619783 118.34895503\n",
      "  86.16210137 118.74499132 109.05064569  95.12905341 115.04709543\n",
      "  95.30297025 107.69184343  89.69146574 133.03042337  98.85788954\n",
      " 113.64450563 125.32044545 110.78112268 101.75699936  94.3213214\n",
      " 108.08852805 185.26411533  81.1919691   89.77074323  98.64280842\n",
      " 106.95958327 232.95506019 143.68546698 189.29674238 121.01474521\n",
      " 136.24170731  76.4014175  109.05864532 192.73385511 129.16391907\n",
      "  87.84996222 214.08872823 124.50290023 128.84338795 129.64385896\n",
      " 115.18470153 119.03465376 118.70850413 142.81568972  94.4846378\n",
      " 118.97935581 170.72829126 102.46736901  94.23717833 167.22562641\n",
      "  82.65891535 141.70739838  85.98705951 108.13755828 138.57261358\n",
      " 123.78254671 112.25575058 139.44834255 118.05296576 161.39940528\n",
      " 133.65803438 139.05917492 134.11870265  84.48173251  95.20288831\n",
      " 107.70896723 121.24634612 136.90088445 141.84792331 163.03986467\n",
      " 127.64257792 132.21956857 139.32534512 135.70955971  98.20724139\n",
      " 101.558597   173.10161641 136.98520214 117.35489346 132.59565909\n",
      " 108.90706827 126.61930951 103.58688837  90.09515526  83.74186617\n",
      " 114.58871578 114.0822398  159.3585588  108.22162103 106.44368566\n",
      "  90.92550173 130.31481525 124.44585843 101.03342617  76.4992278\n",
      "  94.50198121 119.96141682 109.10508026 128.60855865 120.41678035\n",
      " 112.28307535  79.09369151 119.79055381 103.45749191 101.39601072\n",
      " 102.47212578 105.11511789  96.81406453 169.68080319 138.86777068\n",
      "  87.28831972 108.68587287 157.15177336 105.77796295 112.68852805\n",
      " 152.25907981 122.99232144 114.84762788 138.67711843 155.06178939\n",
      " 144.94605168 136.10903294 105.25692782 117.28861927 168.82781305\n",
      " 117.17194814 190.18537248 124.73148713 113.19582439 115.68626245\n",
      "  82.5718379  171.50772224 128.41704453  85.89466857 146.72600445\n",
      " 132.18045418  34.28735163 106.97779077 144.27238637 110.754423\n",
      " 146.93422062 162.15457743 130.79662487 128.18610222  98.18834899\n",
      " 102.525019    99.42277013 162.73776663 146.35125669 108.08571489\n",
      "  93.79830616 100.89837449  98.38525033 170.74930134 149.1712222\n",
      "  49.25928087 103.49256528  87.17075607  98.85795743 103.23211926\n",
      " 171.06486615 124.48559659 112.69821268 133.05112058  89.87010745\n",
      "  79.21641113 114.08045144 114.49849187 124.67567311 105.972063\n",
      " 132.10043235 117.68403192 114.99746109 105.94844876  81.79316731\n",
      " 130.49530123 124.35017775  96.93584182 194.1516629  126.04873855\n",
      " 143.24084843 141.56775735 140.15731741  99.55174839 147.2206129\n",
      " 153.5490154  167.86173077 138.03371963 104.26466347 117.24450549\n",
      " 109.03412855 130.32372234  87.42687873 177.59325196 152.86576431\n",
      " 178.45469751  79.68396494 121.23184218  96.0678884  169.00243081\n",
      " 100.61361876 114.70003853  79.72560913 118.27939829  67.15799118\n",
      " 134.86660678 138.16327774 119.39079022 137.0854425  108.12303023\n",
      " 124.32990531 112.89941301 129.44695627 102.79314816 116.27033171\n",
      "  82.80948837 139.62946867 116.08555839 103.25554632 138.89341173\n",
      " 111.78292548 118.37459775 101.21605842 118.3744338   80.01456681\n",
      " 187.44423026  79.1332029  142.37186898 131.54462764 115.66445782\n",
      "  83.12241374 126.95170896 144.2498153  126.43085827 118.69622561\n",
      " 132.47259047 116.08417801 122.7175243  110.15471999  90.80617455\n",
      " 198.43924201 175.19627613 119.72344392  99.36113872 116.55818764\n",
      " 133.72516948 176.54140118 194.45245918 128.66330378 139.26802777\n",
      " 124.95082455 100.49073152 179.41193616 116.61974375 124.51426598\n",
      " 124.08044514 171.40512431 106.82393963  92.24771926  95.6931843\n",
      " 142.73865306 104.7465534  122.99260715 124.31622876 127.28310659\n",
      " 214.34937356 119.96252294 109.34634614 124.54217738 131.59589826\n",
      " 120.54201354 151.69145013 109.69493592 112.00060835 124.78821726\n",
      "  86.51641885 162.15670159 127.4892843  125.55365708 131.98304893\n",
      " 117.86752231 101.74756982 127.95181874 100.12440952 111.68225194\n",
      "  77.01267429 118.92789462 144.88758054 108.23224656 147.78681297\n",
      " 186.501604   135.81895311 155.47350769  89.21336957 109.9052065\n",
      " 152.45307629 131.04126134 132.41706669 157.92881703  91.6733622\n",
      "  96.99174534 111.71066537  95.37359104 117.39391698 119.00975045\n",
      "  74.98239861 121.03597966  91.25013027  93.85564952 148.35223857\n",
      "  59.64606935 123.08566837 108.73956695 104.4529943  106.20466793\n",
      " 101.10208898 125.70443931 154.26853849  76.9230963  119.48386386\n",
      " 102.26542986 143.6676088  169.30356357 125.99844073 124.75040236\n",
      " 163.22277201 103.07860499 124.84361662 102.09598002 118.96893193\n",
      " 178.92553095  94.97194447 112.12544963 127.17339463  83.06359146\n",
      " 107.05056459 127.38136397 145.76059174 144.88745509 118.95179664\n",
      " 121.81106102 124.73638308 112.36015688 117.67342223 132.04222854\n",
      " 102.14264039 193.58354652 108.337006   127.27339992 146.9682388\n",
      " 102.18478709 113.16988239 180.80483891 107.90715147 108.02590448\n",
      " 109.7571922  175.7499996  112.32402101 188.64886107 129.52108453\n",
      " 108.18189452  86.7795721  202.92739367  94.74150419  91.49894788\n",
      "  77.72498311  95.7161014  172.01969141 113.21397433 190.8012685\n",
      " 109.01640303 102.82410558 110.23629045 152.50452989  99.45246289\n",
      " 113.80576364 118.69720435 134.22080745 147.48890711 107.58671981\n",
      " 120.05539841 184.92271254 132.82947903 133.60042703  65.05127937\n",
      "  88.53949271 116.45480454  96.97758267 135.9127809  123.24554519\n",
      " 121.9341828  110.36792914 118.49110635 139.01686894 131.12816365\n",
      " 117.17816639 185.23566985 146.51184431 109.84480236  97.79100272\n",
      " 138.24770619 147.04157797 119.69027477 105.858553   115.34183426\n",
      "  97.62286828 131.81883671 157.4241774   96.91901769 145.98448583\n",
      " 124.69955805 126.18887054 160.29552374  99.13442832 145.25768323\n",
      " 191.47986254  98.32107956 131.36845758 132.19147784  90.20848207\n",
      " 132.65998987  76.81534738 200.93679919 145.11018425  76.91824498\n",
      " 110.94970243 140.47201474 118.53191286 116.14321233 122.61736864\n",
      " 169.05386025 180.32906927  65.14352562 130.49470959 118.99419821\n",
      "  62.85965207 108.29470412 110.05482611 121.33967773 101.88604503\n",
      "  79.62617782 120.90733092 116.5464466  124.05203163 136.35627895\n",
      "  48.92675843 158.80656323  95.20571768 220.34814075 137.34600738\n",
      " 128.16181649  96.83440931  95.53768027  90.69960183  99.93377973\n",
      " 175.25598674 169.03739939 127.84928463 130.5785372  112.92760662\n",
      " 148.41529267 151.17020311 140.09856337 135.61094646 163.60031932\n",
      " 129.58473179 117.29222688 117.58532173  95.32901332 130.97165496\n",
      "  92.49285511 130.80708116 154.44054116 147.54107525 137.49041272\n",
      " 106.81904663 118.99206794 131.75032204 102.89989326 123.29643665\n",
      " 100.98593764 163.8029907 ]\n",
      "\n"
     ]
    }
   ],
   "source": [
    "# Predictions on test set\n",
    "print(\"Predictions on test set...\")\n",
    "Y_test_pred = regressor.predict(X_test)\n",
    "print(\"...Done.\")\n",
    "print(Y_test_pred)\n",
    "print()"
   ]
  },
  {
   "cell_type": "code",
   "execution_count": 38,
   "metadata": {},
   "outputs": [
    {
     "name": "stdout",
     "output_type": "stream",
     "text": [
      "R2 score on training set :  0.730101883403715\n",
      "R2 score on test set :  0.7097261105133226\n"
     ]
    }
   ],
   "source": [
    "# Print R^2 scores\n",
    "print(\"R2 score on training set : \", r2_score(Y_train, Y_train_pred))\n",
    "print(\"R2 score on test set : \", r2_score(Y_test, Y_test_pred))"
   ]
  },
  {
   "cell_type": "markdown",
   "metadata": {},
   "source": [
    "Export des modèles pour déploiement"
   ]
  },
  {
   "cell_type": "code",
   "execution_count": 39,
   "metadata": {},
   "outputs": [
    {
     "data": {
      "text/plain": [
       "['finalized_prepoc.sav']"
      ]
     },
     "execution_count": 39,
     "metadata": {},
     "output_type": "execute_result"
    }
   ],
   "source": [
    "import joblib\n",
    "filename = 'finalized_model.sav'\n",
    "joblib.dump(regressor, filename)\n",
    "filename = 'finalized_prepoc.sav'\n",
    "joblib.dump(preprocessor, filename)"
   ]
  },
  {
   "cell_type": "code",
   "execution_count": 40,
   "metadata": {},
   "outputs": [
    {
     "data": {
      "text/plain": [
       "array([-13.38483454,  14.12611843,  -5.61882441,  -5.27839557,\n",
       "        -7.20378632,  10.5102533 ,  12.23480551,   8.29894476,\n",
       "       -12.78170573,  15.48373854, -16.57191338,  -3.7139752 ,\n",
       "         3.29591036,  20.24137358,   8.0143722 ,  21.97235088,\n",
       "        13.57874083,   9.10303278,  -0.45411549, -20.65274452,\n",
       "        -0.06465871,  -2.88593818,   1.33296352, -22.67429755,\n",
       "        -1.824137  ,  -2.52309673,   1.75926925,  -3.81890028,\n",
       "         3.28643142,   1.27129033,  -9.46552066,  -8.59887134,\n",
       "        -3.49830242,  -7.72571154,   3.37253877, -26.8706444 ,\n",
       "         1.07857496,  11.60401996,   0.46433302,   4.6649909 ,\n",
       "         5.08239086,   5.08727615,  -1.43774823])"
      ]
     },
     "execution_count": 40,
     "metadata": {},
     "output_type": "execute_result"
    }
   ],
   "source": [
    "regressor.coef_"
   ]
  },
  {
   "cell_type": "code",
   "execution_count": 41,
   "metadata": {},
   "outputs": [
    {
     "name": "stdout",
     "output_type": "stream",
     "text": [
      "Names of columns corresponding to each coefficient:  ['mileage', 'engine_power', 'model_key_Autres', 'model_key_BMW', 'model_key_Citroën', 'model_key_Luxe', 'model_key_Mercedes', 'model_key_Mitsubishi', 'model_key_Nissan', 'model_key_Opel', 'model_key_PGO', 'model_key_Peugeot', 'model_key_Renault', 'model_key_SEAT', 'model_key_Subaru', 'model_key_Toyota', 'model_key_Volkswagen', 'fuel_electro', 'fuel_hybrid_petrol', 'fuel_petrol', 'paint_color_black', 'paint_color_blue', 'paint_color_brown', 'paint_color_green', 'paint_color_grey', 'paint_color_orange', 'paint_color_red', 'paint_color_silver', 'paint_color_white', 'car_type_coupe', 'car_type_estate', 'car_type_hatchback', 'car_type_sedan', 'car_type_subcompact', 'car_type_suv', 'car_type_van', 'private_parking_available_True', 'has_gps_True', 'has_air_conditioning_True', 'automatic_car_True', 'has_getaround_connect_True', 'has_speed_regulator_True', 'winter_tires_True']\n"
     ]
    }
   ],
   "source": [
    "column_names = []\n",
    "for name, pipeline, features_list in preprocessor.transformers_: # loop over pipelines\n",
    "    if name == 'num': # if pipeline is for numeric variables\n",
    "        features = features_list # just get the names of columns to which it has been applied\n",
    "    else: # if pipeline is for categorical variables\n",
    "        features = pipeline.named_steps['encoder'].get_feature_names_out() # get output columns names from OneHotEncoder\n",
    "    column_names.extend(features) # concatenate features names\n",
    "        \n",
    "print(\"Names of columns corresponding to each coefficient: \", column_names)"
   ]
  },
  {
   "cell_type": "code",
   "execution_count": 42,
   "metadata": {},
   "outputs": [
    {
     "data": {
      "text/html": [
       "<div>\n",
       "<style scoped>\n",
       "    .dataframe tbody tr th:only-of-type {\n",
       "        vertical-align: middle;\n",
       "    }\n",
       "\n",
       "    .dataframe tbody tr th {\n",
       "        vertical-align: top;\n",
       "    }\n",
       "\n",
       "    .dataframe thead th {\n",
       "        text-align: right;\n",
       "    }\n",
       "</style>\n",
       "<table border=\"1\" class=\"dataframe\">\n",
       "  <thead>\n",
       "    <tr style=\"text-align: right;\">\n",
       "      <th></th>\n",
       "      <th>coefficients</th>\n",
       "    </tr>\n",
       "  </thead>\n",
       "  <tbody>\n",
       "    <tr>\n",
       "      <th>mileage</th>\n",
       "      <td>-13.384835</td>\n",
       "    </tr>\n",
       "    <tr>\n",
       "      <th>engine_power</th>\n",
       "      <td>14.126118</td>\n",
       "    </tr>\n",
       "    <tr>\n",
       "      <th>model_key_Autres</th>\n",
       "      <td>-5.618824</td>\n",
       "    </tr>\n",
       "    <tr>\n",
       "      <th>model_key_BMW</th>\n",
       "      <td>-5.278396</td>\n",
       "    </tr>\n",
       "    <tr>\n",
       "      <th>model_key_Citroën</th>\n",
       "      <td>-7.203786</td>\n",
       "    </tr>\n",
       "    <tr>\n",
       "      <th>model_key_Luxe</th>\n",
       "      <td>10.510253</td>\n",
       "    </tr>\n",
       "    <tr>\n",
       "      <th>model_key_Mercedes</th>\n",
       "      <td>12.234806</td>\n",
       "    </tr>\n",
       "    <tr>\n",
       "      <th>model_key_Mitsubishi</th>\n",
       "      <td>8.298945</td>\n",
       "    </tr>\n",
       "    <tr>\n",
       "      <th>model_key_Nissan</th>\n",
       "      <td>-12.781706</td>\n",
       "    </tr>\n",
       "    <tr>\n",
       "      <th>model_key_Opel</th>\n",
       "      <td>15.483739</td>\n",
       "    </tr>\n",
       "    <tr>\n",
       "      <th>model_key_PGO</th>\n",
       "      <td>-16.571913</td>\n",
       "    </tr>\n",
       "    <tr>\n",
       "      <th>model_key_Peugeot</th>\n",
       "      <td>-3.713975</td>\n",
       "    </tr>\n",
       "    <tr>\n",
       "      <th>model_key_Renault</th>\n",
       "      <td>3.295910</td>\n",
       "    </tr>\n",
       "    <tr>\n",
       "      <th>model_key_SEAT</th>\n",
       "      <td>20.241374</td>\n",
       "    </tr>\n",
       "    <tr>\n",
       "      <th>model_key_Subaru</th>\n",
       "      <td>8.014372</td>\n",
       "    </tr>\n",
       "    <tr>\n",
       "      <th>model_key_Toyota</th>\n",
       "      <td>21.972351</td>\n",
       "    </tr>\n",
       "    <tr>\n",
       "      <th>model_key_Volkswagen</th>\n",
       "      <td>13.578741</td>\n",
       "    </tr>\n",
       "    <tr>\n",
       "      <th>fuel_electro</th>\n",
       "      <td>9.103033</td>\n",
       "    </tr>\n",
       "    <tr>\n",
       "      <th>fuel_hybrid_petrol</th>\n",
       "      <td>-0.454115</td>\n",
       "    </tr>\n",
       "    <tr>\n",
       "      <th>fuel_petrol</th>\n",
       "      <td>-20.652745</td>\n",
       "    </tr>\n",
       "    <tr>\n",
       "      <th>paint_color_black</th>\n",
       "      <td>-0.064659</td>\n",
       "    </tr>\n",
       "    <tr>\n",
       "      <th>paint_color_blue</th>\n",
       "      <td>-2.885938</td>\n",
       "    </tr>\n",
       "    <tr>\n",
       "      <th>paint_color_brown</th>\n",
       "      <td>1.332964</td>\n",
       "    </tr>\n",
       "    <tr>\n",
       "      <th>paint_color_green</th>\n",
       "      <td>-22.674298</td>\n",
       "    </tr>\n",
       "    <tr>\n",
       "      <th>paint_color_grey</th>\n",
       "      <td>-1.824137</td>\n",
       "    </tr>\n",
       "    <tr>\n",
       "      <th>paint_color_orange</th>\n",
       "      <td>-2.523097</td>\n",
       "    </tr>\n",
       "    <tr>\n",
       "      <th>paint_color_red</th>\n",
       "      <td>1.759269</td>\n",
       "    </tr>\n",
       "    <tr>\n",
       "      <th>paint_color_silver</th>\n",
       "      <td>-3.818900</td>\n",
       "    </tr>\n",
       "    <tr>\n",
       "      <th>paint_color_white</th>\n",
       "      <td>3.286431</td>\n",
       "    </tr>\n",
       "    <tr>\n",
       "      <th>car_type_coupe</th>\n",
       "      <td>1.271290</td>\n",
       "    </tr>\n",
       "    <tr>\n",
       "      <th>car_type_estate</th>\n",
       "      <td>-9.465521</td>\n",
       "    </tr>\n",
       "    <tr>\n",
       "      <th>car_type_hatchback</th>\n",
       "      <td>-8.598871</td>\n",
       "    </tr>\n",
       "    <tr>\n",
       "      <th>car_type_sedan</th>\n",
       "      <td>-3.498302</td>\n",
       "    </tr>\n",
       "    <tr>\n",
       "      <th>car_type_subcompact</th>\n",
       "      <td>-7.725712</td>\n",
       "    </tr>\n",
       "    <tr>\n",
       "      <th>car_type_suv</th>\n",
       "      <td>3.372539</td>\n",
       "    </tr>\n",
       "    <tr>\n",
       "      <th>car_type_van</th>\n",
       "      <td>-26.870644</td>\n",
       "    </tr>\n",
       "    <tr>\n",
       "      <th>private_parking_available_True</th>\n",
       "      <td>1.078575</td>\n",
       "    </tr>\n",
       "    <tr>\n",
       "      <th>has_gps_True</th>\n",
       "      <td>11.604020</td>\n",
       "    </tr>\n",
       "    <tr>\n",
       "      <th>has_air_conditioning_True</th>\n",
       "      <td>0.464333</td>\n",
       "    </tr>\n",
       "    <tr>\n",
       "      <th>automatic_car_True</th>\n",
       "      <td>4.664991</td>\n",
       "    </tr>\n",
       "    <tr>\n",
       "      <th>has_getaround_connect_True</th>\n",
       "      <td>5.082391</td>\n",
       "    </tr>\n",
       "    <tr>\n",
       "      <th>has_speed_regulator_True</th>\n",
       "      <td>5.087276</td>\n",
       "    </tr>\n",
       "    <tr>\n",
       "      <th>winter_tires_True</th>\n",
       "      <td>-1.437748</td>\n",
       "    </tr>\n",
       "  </tbody>\n",
       "</table>\n",
       "</div>"
      ],
      "text/plain": [
       "                                coefficients\n",
       "mileage                           -13.384835\n",
       "engine_power                       14.126118\n",
       "model_key_Autres                   -5.618824\n",
       "model_key_BMW                      -5.278396\n",
       "model_key_Citroën                  -7.203786\n",
       "model_key_Luxe                     10.510253\n",
       "model_key_Mercedes                 12.234806\n",
       "model_key_Mitsubishi                8.298945\n",
       "model_key_Nissan                  -12.781706\n",
       "model_key_Opel                     15.483739\n",
       "model_key_PGO                     -16.571913\n",
       "model_key_Peugeot                  -3.713975\n",
       "model_key_Renault                   3.295910\n",
       "model_key_SEAT                     20.241374\n",
       "model_key_Subaru                    8.014372\n",
       "model_key_Toyota                   21.972351\n",
       "model_key_Volkswagen               13.578741\n",
       "fuel_electro                        9.103033\n",
       "fuel_hybrid_petrol                 -0.454115\n",
       "fuel_petrol                       -20.652745\n",
       "paint_color_black                  -0.064659\n",
       "paint_color_blue                   -2.885938\n",
       "paint_color_brown                   1.332964\n",
       "paint_color_green                 -22.674298\n",
       "paint_color_grey                   -1.824137\n",
       "paint_color_orange                 -2.523097\n",
       "paint_color_red                     1.759269\n",
       "paint_color_silver                 -3.818900\n",
       "paint_color_white                   3.286431\n",
       "car_type_coupe                      1.271290\n",
       "car_type_estate                    -9.465521\n",
       "car_type_hatchback                 -8.598871\n",
       "car_type_sedan                     -3.498302\n",
       "car_type_subcompact                -7.725712\n",
       "car_type_suv                        3.372539\n",
       "car_type_van                      -26.870644\n",
       "private_parking_available_True      1.078575\n",
       "has_gps_True                       11.604020\n",
       "has_air_conditioning_True           0.464333\n",
       "automatic_car_True                  4.664991\n",
       "has_getaround_connect_True          5.082391\n",
       "has_speed_regulator_True            5.087276\n",
       "winter_tires_True                  -1.437748"
      ]
     },
     "execution_count": 42,
     "metadata": {},
     "output_type": "execute_result"
    }
   ],
   "source": [
    "# Create a pandas DataFrame\n",
    "coefs = pd.DataFrame(index = column_names, data = regressor.coef_.transpose(), columns=[\"coefficients\"])\n",
    "coefs"
   ]
  },
  {
   "cell_type": "code",
   "execution_count": 43,
   "metadata": {},
   "outputs": [
    {
     "data": {
      "text/html": [
       "<div>\n",
       "<style scoped>\n",
       "    .dataframe tbody tr th:only-of-type {\n",
       "        vertical-align: middle;\n",
       "    }\n",
       "\n",
       "    .dataframe tbody tr th {\n",
       "        vertical-align: top;\n",
       "    }\n",
       "\n",
       "    .dataframe thead th {\n",
       "        text-align: right;\n",
       "    }\n",
       "</style>\n",
       "<table border=\"1\" class=\"dataframe\">\n",
       "  <thead>\n",
       "    <tr style=\"text-align: right;\">\n",
       "      <th></th>\n",
       "      <th>coefficients</th>\n",
       "    </tr>\n",
       "  </thead>\n",
       "  <tbody>\n",
       "    <tr>\n",
       "      <th>paint_color_black</th>\n",
       "      <td>0.064659</td>\n",
       "    </tr>\n",
       "    <tr>\n",
       "      <th>fuel_hybrid_petrol</th>\n",
       "      <td>0.454115</td>\n",
       "    </tr>\n",
       "    <tr>\n",
       "      <th>has_air_conditioning_True</th>\n",
       "      <td>0.464333</td>\n",
       "    </tr>\n",
       "    <tr>\n",
       "      <th>private_parking_available_True</th>\n",
       "      <td>1.078575</td>\n",
       "    </tr>\n",
       "    <tr>\n",
       "      <th>car_type_coupe</th>\n",
       "      <td>1.271290</td>\n",
       "    </tr>\n",
       "    <tr>\n",
       "      <th>paint_color_brown</th>\n",
       "      <td>1.332964</td>\n",
       "    </tr>\n",
       "    <tr>\n",
       "      <th>winter_tires_True</th>\n",
       "      <td>1.437748</td>\n",
       "    </tr>\n",
       "    <tr>\n",
       "      <th>paint_color_red</th>\n",
       "      <td>1.759269</td>\n",
       "    </tr>\n",
       "    <tr>\n",
       "      <th>paint_color_grey</th>\n",
       "      <td>1.824137</td>\n",
       "    </tr>\n",
       "    <tr>\n",
       "      <th>paint_color_orange</th>\n",
       "      <td>2.523097</td>\n",
       "    </tr>\n",
       "    <tr>\n",
       "      <th>paint_color_blue</th>\n",
       "      <td>2.885938</td>\n",
       "    </tr>\n",
       "    <tr>\n",
       "      <th>paint_color_white</th>\n",
       "      <td>3.286431</td>\n",
       "    </tr>\n",
       "    <tr>\n",
       "      <th>model_key_Renault</th>\n",
       "      <td>3.295910</td>\n",
       "    </tr>\n",
       "    <tr>\n",
       "      <th>car_type_suv</th>\n",
       "      <td>3.372539</td>\n",
       "    </tr>\n",
       "    <tr>\n",
       "      <th>car_type_sedan</th>\n",
       "      <td>3.498302</td>\n",
       "    </tr>\n",
       "    <tr>\n",
       "      <th>model_key_Peugeot</th>\n",
       "      <td>3.713975</td>\n",
       "    </tr>\n",
       "    <tr>\n",
       "      <th>paint_color_silver</th>\n",
       "      <td>3.818900</td>\n",
       "    </tr>\n",
       "    <tr>\n",
       "      <th>automatic_car_True</th>\n",
       "      <td>4.664991</td>\n",
       "    </tr>\n",
       "    <tr>\n",
       "      <th>has_getaround_connect_True</th>\n",
       "      <td>5.082391</td>\n",
       "    </tr>\n",
       "    <tr>\n",
       "      <th>has_speed_regulator_True</th>\n",
       "      <td>5.087276</td>\n",
       "    </tr>\n",
       "    <tr>\n",
       "      <th>model_key_BMW</th>\n",
       "      <td>5.278396</td>\n",
       "    </tr>\n",
       "    <tr>\n",
       "      <th>model_key_Autres</th>\n",
       "      <td>5.618824</td>\n",
       "    </tr>\n",
       "    <tr>\n",
       "      <th>model_key_Citroën</th>\n",
       "      <td>7.203786</td>\n",
       "    </tr>\n",
       "    <tr>\n",
       "      <th>car_type_subcompact</th>\n",
       "      <td>7.725712</td>\n",
       "    </tr>\n",
       "    <tr>\n",
       "      <th>model_key_Subaru</th>\n",
       "      <td>8.014372</td>\n",
       "    </tr>\n",
       "    <tr>\n",
       "      <th>model_key_Mitsubishi</th>\n",
       "      <td>8.298945</td>\n",
       "    </tr>\n",
       "    <tr>\n",
       "      <th>car_type_hatchback</th>\n",
       "      <td>8.598871</td>\n",
       "    </tr>\n",
       "    <tr>\n",
       "      <th>fuel_electro</th>\n",
       "      <td>9.103033</td>\n",
       "    </tr>\n",
       "    <tr>\n",
       "      <th>car_type_estate</th>\n",
       "      <td>9.465521</td>\n",
       "    </tr>\n",
       "    <tr>\n",
       "      <th>model_key_Luxe</th>\n",
       "      <td>10.510253</td>\n",
       "    </tr>\n",
       "    <tr>\n",
       "      <th>has_gps_True</th>\n",
       "      <td>11.604020</td>\n",
       "    </tr>\n",
       "    <tr>\n",
       "      <th>model_key_Mercedes</th>\n",
       "      <td>12.234806</td>\n",
       "    </tr>\n",
       "    <tr>\n",
       "      <th>model_key_Nissan</th>\n",
       "      <td>12.781706</td>\n",
       "    </tr>\n",
       "    <tr>\n",
       "      <th>mileage</th>\n",
       "      <td>13.384835</td>\n",
       "    </tr>\n",
       "    <tr>\n",
       "      <th>model_key_Volkswagen</th>\n",
       "      <td>13.578741</td>\n",
       "    </tr>\n",
       "    <tr>\n",
       "      <th>engine_power</th>\n",
       "      <td>14.126118</td>\n",
       "    </tr>\n",
       "    <tr>\n",
       "      <th>model_key_Opel</th>\n",
       "      <td>15.483739</td>\n",
       "    </tr>\n",
       "    <tr>\n",
       "      <th>model_key_PGO</th>\n",
       "      <td>16.571913</td>\n",
       "    </tr>\n",
       "    <tr>\n",
       "      <th>model_key_SEAT</th>\n",
       "      <td>20.241374</td>\n",
       "    </tr>\n",
       "    <tr>\n",
       "      <th>fuel_petrol</th>\n",
       "      <td>20.652745</td>\n",
       "    </tr>\n",
       "    <tr>\n",
       "      <th>model_key_Toyota</th>\n",
       "      <td>21.972351</td>\n",
       "    </tr>\n",
       "    <tr>\n",
       "      <th>paint_color_green</th>\n",
       "      <td>22.674298</td>\n",
       "    </tr>\n",
       "    <tr>\n",
       "      <th>car_type_van</th>\n",
       "      <td>26.870644</td>\n",
       "    </tr>\n",
       "  </tbody>\n",
       "</table>\n",
       "</div>"
      ],
      "text/plain": [
       "                                coefficients\n",
       "paint_color_black                   0.064659\n",
       "fuel_hybrid_petrol                  0.454115\n",
       "has_air_conditioning_True           0.464333\n",
       "private_parking_available_True      1.078575\n",
       "car_type_coupe                      1.271290\n",
       "paint_color_brown                   1.332964\n",
       "winter_tires_True                   1.437748\n",
       "paint_color_red                     1.759269\n",
       "paint_color_grey                    1.824137\n",
       "paint_color_orange                  2.523097\n",
       "paint_color_blue                    2.885938\n",
       "paint_color_white                   3.286431\n",
       "model_key_Renault                   3.295910\n",
       "car_type_suv                        3.372539\n",
       "car_type_sedan                      3.498302\n",
       "model_key_Peugeot                   3.713975\n",
       "paint_color_silver                  3.818900\n",
       "automatic_car_True                  4.664991\n",
       "has_getaround_connect_True          5.082391\n",
       "has_speed_regulator_True            5.087276\n",
       "model_key_BMW                       5.278396\n",
       "model_key_Autres                    5.618824\n",
       "model_key_Citroën                   7.203786\n",
       "car_type_subcompact                 7.725712\n",
       "model_key_Subaru                    8.014372\n",
       "model_key_Mitsubishi                8.298945\n",
       "car_type_hatchback                  8.598871\n",
       "fuel_electro                        9.103033\n",
       "car_type_estate                     9.465521\n",
       "model_key_Luxe                     10.510253\n",
       "has_gps_True                       11.604020\n",
       "model_key_Mercedes                 12.234806\n",
       "model_key_Nissan                   12.781706\n",
       "mileage                            13.384835\n",
       "model_key_Volkswagen               13.578741\n",
       "engine_power                       14.126118\n",
       "model_key_Opel                     15.483739\n",
       "model_key_PGO                      16.571913\n",
       "model_key_SEAT                     20.241374\n",
       "fuel_petrol                        20.652745\n",
       "model_key_Toyota                   21.972351\n",
       "paint_color_green                  22.674298\n",
       "car_type_van                       26.870644"
      ]
     },
     "execution_count": 43,
     "metadata": {},
     "output_type": "execute_result"
    }
   ],
   "source": [
    "# Compute abs() and sort values\n",
    "feature_importance = abs(coefs).sort_values(by = 'coefficients')\n",
    "feature_importance"
   ]
  },
  {
   "cell_type": "code",
   "execution_count": 44,
   "metadata": {},
   "outputs": [
    {
     "data": {
      "text/html": [
       "<iframe\n",
       "    scrolling=\"no\"\n",
       "    width=\"100%\"\n",
       "    height=\"545px\"\n",
       "    src=\"iframe_figures/figure_44.html\"\n",
       "    frameborder=\"0\"\n",
       "    allowfullscreen\n",
       "></iframe>\n"
      ]
     },
     "metadata": {},
     "output_type": "display_data"
    }
   ],
   "source": [
    "pio.renderers.default = \"iframe_connected\"\n",
    "# Plot coefficients\n",
    "fig = px.bar(feature_importance, orientation = 'h')\n",
    "fig.update_layout(showlegend = False, \n",
    "                  margin = {'l': 120} # to avoid cropping of column names\n",
    "                 )\n",
    "fig.show()"
   ]
  },
  {
   "cell_type": "code",
   "execution_count": 45,
   "metadata": {},
   "outputs": [
    {
     "name": "stdout",
     "output_type": "stream",
     "text": [
      "coefficients are:  [-13.38483454  14.12611843  -5.61882441  -5.27839557  -7.20378632\n",
      "  10.5102533   12.23480551   8.29894476 -12.78170573  15.48373854\n",
      " -16.57191338  -3.7139752    3.29591036  20.24137358   8.0143722\n",
      "  21.97235088  13.57874083   9.10303278  -0.45411549 -20.65274452\n",
      "  -0.06465871  -2.88593818   1.33296352 -22.67429755  -1.824137\n",
      "  -2.52309673   1.75926925  -3.81890028   3.28643142   1.27129033\n",
      "  -9.46552066  -8.59887134  -3.49830242  -7.72571154   3.37253877\n",
      " -26.8706444    1.07857496  11.60401996   0.46433302   4.6649909\n",
      "   5.08239086   5.08727615  -1.43774823]\n",
      "Constant is:  116.25003179993597\n",
      "All transformers are:  [('num', Pipeline(steps=[('scaler', StandardScaler())]), ['mileage', 'engine_power']), ('cat', Pipeline(steps=[('encoder', OneHotEncoder(drop='first'))]), Index(['model_key', 'fuel', 'paint_color', 'car_type',\n",
      "       'private_parking_available', 'has_gps', 'has_air_conditioning',\n",
      "       'automatic_car', 'has_getaround_connect', 'has_speed_regulator',\n",
      "       'winter_tires'],\n",
      "      dtype='object'))]\n",
      "One Hot Encoder transformer is:  Pipeline(steps=[('scaler', StandardScaler())])\n"
     ]
    }
   ],
   "source": [
    "print(\"coefficients are: \", regressor.coef_) \n",
    "print(\"Constant is: \", regressor.intercept_)\n",
    "# Access transformers from feature_encoder\n",
    "print(\"All transformers are: \", preprocessor.transformers)\n",
    "\n",
    "# Access one specific transformer\n",
    "print(\"One Hot Encoder transformer is: \", preprocessor.transformers[0][1])"
   ]
  },
  {
   "cell_type": "markdown",
   "metadata": {},
   "source": [
    "# Ridge"
   ]
  },
  {
   "cell_type": "code",
   "execution_count": 75,
   "metadata": {},
   "outputs": [
    {
     "name": "stdout",
     "output_type": "stream",
     "text": [
      "Fitting 10 folds for each of 100 candidates, totalling 1000 fits\n"
     ]
    },
    {
     "data": {
      "text/plain": [
       "GridSearchCV(cv=10, estimator=Ridge(), param_grid={'alpha': range(0, 100)},\n",
       "             verbose=1)"
      ]
     },
     "execution_count": 75,
     "metadata": {},
     "output_type": "execute_result"
    }
   ],
   "source": [
    "from sklearn.model_selection import train_test_split\n",
    "from sklearn.model_selection import GridSearchCV\n",
    "from sklearn.preprocessing import StandardScaler\n",
    "from sklearn.linear_model import LinearRegression\n",
    "from sklearn.linear_model import Ridge, Lasso\n",
    "from sklearn.metrics import r2_score, mean_squared_error\n",
    "import warnings\n",
    "\n",
    "params = {'alpha' : range(100)}\n",
    "ridge = Ridge()\n",
    "grid = GridSearchCV(ridge, param_grid=params, cv = 10, verbose=1)\n",
    "\n",
    "grid.fit(X_train, Y_train)"
   ]
  },
  {
   "cell_type": "code",
   "execution_count": 76,
   "metadata": {
    "id": "Y74tkYTA35lF",
    "outputId": "6861fb37-fdaf-4bfb-ac15-20796fc16cce",
    "tags": []
   },
   "outputs": [
    {
     "name": "stdout",
     "output_type": "stream",
     "text": [
      "BEST ESTIMATOR\n",
      "test R^2\n",
      "0.7290784651218877\n",
      "test R^2\n",
      "0.7086227868368182\n",
      "train MSE\n",
      "293.9817787117095\n",
      "test MSE\n",
      "308.94669925851366\n"
     ]
    }
   ],
   "source": [
    "print(\"BEST ESTIMATOR\")\n",
    "print(\"test R^2\")\n",
    "best_model = grid.best_estimator_\n",
    "print(best_model.score(X_train, Y_train))\n",
    "print(\"test R^2\")\n",
    "print(best_model.score(X_test, Y_test))\n",
    "print(\"train MSE\")\n",
    "print(mean_squared_error(Y_train,best_model.predict(X_train)))\n",
    "print(\"test MSE\")\n",
    "print(mean_squared_error(Y_test,best_model.predict(X_test)))"
   ]
  },
  {
   "cell_type": "code",
   "execution_count": 77,
   "metadata": {},
   "outputs": [
    {
     "data": {
      "text/plain": [
       "{'alpha': 6}"
      ]
     },
     "execution_count": 77,
     "metadata": {},
     "output_type": "execute_result"
    }
   ],
   "source": [
    "grid.best_params_"
   ]
  },
  {
   "cell_type": "markdown",
   "metadata": {},
   "source": [
    "# Lasso"
   ]
  },
  {
   "cell_type": "code",
   "execution_count": 78,
   "metadata": {},
   "outputs": [
    {
     "name": "stdout",
     "output_type": "stream",
     "text": [
      "Fitting 10 folds for each of 10 candidates, totalling 100 fits\n"
     ]
    },
    {
     "data": {
      "text/plain": [
       "GridSearchCV(cv=10, estimator=Lasso(),\n",
       "             param_grid={'alpha': [1.0, 0.5011872336272722, 0.251188643150958,\n",
       "                                   0.12589254117941673, 0.06309573444801933,\n",
       "                                   0.03162277660168379, 0.015848931924611134,\n",
       "                                   0.007943282347242814, 0.003981071705534973,\n",
       "                                   0.001995262314968879]},\n",
       "             verbose=1)"
      ]
     },
     "execution_count": 78,
     "metadata": {},
     "output_type": "execute_result"
    }
   ],
   "source": [
    "from sklearn.linear_model import Lasso\n",
    "\n",
    "params = {'alpha' : [10**(-a/10) for a in range(0,30,3)]}\n",
    "lasso = Lasso()\n",
    "grid2 = GridSearchCV(lasso,param_grid=params, cv = 10, verbose=1)\n",
    "\n",
    "grid2.fit(X_train,Y_train)"
   ]
  },
  {
   "cell_type": "code",
   "execution_count": 79,
   "metadata": {},
   "outputs": [
    {
     "data": {
      "text/plain": [
       "{'alpha': 6}"
      ]
     },
     "execution_count": 79,
     "metadata": {},
     "output_type": "execute_result"
    }
   ],
   "source": [
    "grid.best_params_"
   ]
  },
  {
   "cell_type": "code",
   "execution_count": 80,
   "metadata": {},
   "outputs": [
    {
     "name": "stdout",
     "output_type": "stream",
     "text": [
      "BEST ESTIMATOR\n",
      "train r2\n",
      "0.729318233882017\n",
      "test r2\n",
      "0.708178570880102\n",
      "train MSE\n",
      "293.7216013632605\n",
      "test MSE \n",
      "309.4177005838938\n"
     ]
    }
   ],
   "source": [
    "print(\"BEST ESTIMATOR\")\n",
    "print(\"train r2\")\n",
    "best_model_2 = grid2.best_estimator_\n",
    "print(best_model_2.score(X_train, Y_train))\n",
    "print(\"test r2\")\n",
    "print(best_model_2.score(X_test, Y_test))\n",
    "print(\"train MSE\")\n",
    "print(mean_squared_error(Y_train,best_model_2.predict(X_train)))\n",
    "print(\"test MSE \")\n",
    "print(mean_squared_error(Y_test,best_model_2.predict(X_test)))\n"
   ]
  },
  {
   "cell_type": "code",
   "execution_count": 82,
   "metadata": {},
   "outputs": [
    {
     "data": {
      "text/html": [
       "<div>\n",
       "<style scoped>\n",
       "    .dataframe tbody tr th:only-of-type {\n",
       "        vertical-align: middle;\n",
       "    }\n",
       "\n",
       "    .dataframe tbody tr th {\n",
       "        vertical-align: top;\n",
       "    }\n",
       "\n",
       "    .dataframe thead th {\n",
       "        text-align: right;\n",
       "    }\n",
       "</style>\n",
       "<table border=\"1\" class=\"dataframe\">\n",
       "  <thead>\n",
       "    <tr style=\"text-align: right;\">\n",
       "      <th></th>\n",
       "      <th>features</th>\n",
       "      <th>coef_linear_regressor</th>\n",
       "      <th>coef_ridge_best</th>\n",
       "      <th>coef_lasso_best</th>\n",
       "    </tr>\n",
       "  </thead>\n",
       "  <tbody>\n",
       "    <tr>\n",
       "      <th>0</th>\n",
       "      <td>mileage</td>\n",
       "      <td>-13.384835</td>\n",
       "      <td>-13.455075</td>\n",
       "      <td>-13.459032</td>\n",
       "    </tr>\n",
       "    <tr>\n",
       "      <th>1</th>\n",
       "      <td>engine_power</td>\n",
       "      <td>14.126118</td>\n",
       "      <td>14.222270</td>\n",
       "      <td>14.296452</td>\n",
       "    </tr>\n",
       "    <tr>\n",
       "      <th>2</th>\n",
       "      <td>model_key_Autres</td>\n",
       "      <td>-5.618824</td>\n",
       "      <td>-6.461427</td>\n",
       "      <td>-4.313701</td>\n",
       "    </tr>\n",
       "    <tr>\n",
       "      <th>3</th>\n",
       "      <td>model_key_BMW</td>\n",
       "      <td>-5.278396</td>\n",
       "      <td>-7.113186</td>\n",
       "      <td>-6.845073</td>\n",
       "    </tr>\n",
       "    <tr>\n",
       "      <th>4</th>\n",
       "      <td>model_key_Citroën</td>\n",
       "      <td>-7.203786</td>\n",
       "      <td>-7.453247</td>\n",
       "      <td>-7.290133</td>\n",
       "    </tr>\n",
       "  </tbody>\n",
       "</table>\n",
       "</div>"
      ],
      "text/plain": [
       "            features  coef_linear_regressor  coef_ridge_best  coef_lasso_best\n",
       "0            mileage             -13.384835       -13.455075       -13.459032\n",
       "1       engine_power              14.126118        14.222270        14.296452\n",
       "2   model_key_Autres              -5.618824        -6.461427        -4.313701\n",
       "3      model_key_BMW              -5.278396        -7.113186        -6.845073\n",
       "4  model_key_Citroën              -7.203786        -7.453247        -7.290133"
      ]
     },
     "execution_count": 82,
     "metadata": {},
     "output_type": "execute_result"
    }
   ],
   "source": [
    "coef = pd.DataFrame()\n",
    "coef['features'] = column_names\n",
    "coef['coef_linear_regressor'] = regressor.coef_\n",
    "coef['coef_ridge_best'] = best_model.coef_\n",
    "coef['coef_lasso_best'] = best_model_2.coef_\n",
    "coef.head()"
   ]
  },
  {
   "cell_type": "code",
   "execution_count": 72,
   "metadata": {},
   "outputs": [
    {
     "data": {
      "text/plain": [
       "array([132.49054522])"
      ]
     },
     "execution_count": 72,
     "metadata": {},
     "output_type": "execute_result"
    }
   ],
   "source": [
    "import joblib\n",
    "dataset_pricing.columns\n",
    "predict_array = np.zeros((1,13))\n",
    "im_df = pd.DataFrame(predict_array, columns=dataset_pricing.columns)\n",
    "im_df[0:1] = ['Citroën', 140000, 120, 'diesel', 'black', 'convertible', True, True, True, True, True, True, True]\n",
    "loaded_model = joblib.load('finalized_model.sav')\n",
    "pipeline = joblib.load('finalized_prepoc.sav')\n",
    "result = loaded_model.predict(pipeline.transform(im_df))\n",
    "result"
   ]
  }
 ],
 "metadata": {
  "colab": {
   "collapsed_sections": [],
   "name": "02-Compose_with_database_solution.ipynb",
   "provenance": []
  },
  "kernelspec": {
   "display_name": "Python 3 (ipykernel)",
   "language": "python",
   "name": "python3"
  },
  "language_info": {
   "codemirror_mode": {
    "name": "ipython",
    "version": 3
   },
   "file_extension": ".py",
   "mimetype": "text/x-python",
   "name": "python",
   "nbconvert_exporter": "python",
   "pygments_lexer": "ipython3",
   "version": "3.9.7"
  },
  "vscode": {
   "interpreter": {
    "hash": "3350b0464cf3626baf73e084855ddfc8096d35b6b5375449976ef29efd62d433"
   }
  }
 },
 "nbformat": 4,
 "nbformat_minor": 4
}
